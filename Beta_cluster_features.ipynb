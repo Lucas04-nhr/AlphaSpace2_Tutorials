{
 "cells": [
  {
   "cell_type": "code",
   "metadata": {
    "ExecuteTime": {
     "end_time": "2024-07-24T08:53:58.249184Z",
     "start_time": "2024-07-24T08:53:58.243726Z"
    }
   },
   "source": [
    "import alphaspace2 as al\n",
    "import mdtraj\n",
    "import numpy as np\n",
    "from scipy.spatial.distance import cdist\n",
    "from scipy.cluster.hierarchy import fcluster, linkage\n",
    "from alphaspace2.functions import _binCluster, _group\n",
    "from alphaspace2.Cluster import _DPocket"
   ],
   "outputs": [],
   "execution_count": 3
  },
  {
   "cell_type": "code",
   "metadata": {
    "ExecuteTime": {
     "end_time": "2024-07-24T08:53:58.833697Z",
     "start_time": "2024-07-24T08:53:58.270891Z"
    }
   },
   "source": [
    "import features  ## python module with pseudomolecular features\n",
    "import glob\n",
    "from collections import defaultdict \n",
    "import matplotlib.pyplot as plt\n",
    "import pandas as pd"
   ],
   "outputs": [],
   "execution_count": 4
  },
  {
   "cell_type": "markdown",
   "metadata": {},
   "source": [
    "### For this tutorial, We use pocket features to compare the pocket/ligand similarities of 10 HIV-protease inhibitors"
   ]
  },
  {
   "cell_type": "code",
   "metadata": {
    "ExecuteTime": {
     "end_time": "2024-07-24T08:53:58.840268Z",
     "start_time": "2024-07-24T08:53:58.836261Z"
    }
   },
   "source": [
    "protease_list = ['1c70','1hvi','1hvj','1izh','1pro','1siv','2i0a','2psv','2q5k','3lzu']"
   ],
   "outputs": [],
   "execution_count": 5
  },
  {
   "cell_type": "markdown",
   "metadata": {},
   "source": [
    "### Calculating the contact pockets for proteases"
   ]
  },
  {
   "cell_type": "code",
   "metadata": {
    "ExecuteTime": {
     "end_time": "2024-07-24T08:53:59.384499Z",
     "start_time": "2024-07-24T08:53:58.842154Z"
    }
   },
   "source": [
    "protease_data_lig = {}\n",
    "protease_data_ss = {}\n",
    "protease_data_prot = {}\n",
    "for pdb_id in protease_list:\n",
    "    prot = mdtraj.load('Beta_Cluster_features/protein_' + pdb_id + '.pdb')\n",
    "    protease_data_prot[pdb_id] = prot\n",
    "    lig = mdtraj.load('Beta_Cluster_features/ligand_' + pdb_id + '.pdb')\n",
    "    protease_data_lig[pdb_id] = lig\n",
    "    ss_prot = al.Snapshot()\n",
    "    ss_prot.run(prot, lig)\n",
    "    protease_data_ss[pdb_id] = ss_prot\n",
    "    "
   ],
   "outputs": [
    {
     "ename": "OSError",
     "evalue": "No such file: Beta_Cluster_features/protein_1c70.pdb",
     "output_type": "error",
     "traceback": [
      "\u001B[0;31m---------------------------------------------------------------------------\u001B[0m",
      "\u001B[0;31mOSError\u001B[0m                                   Traceback (most recent call last)",
      "Cell \u001B[0;32mIn[6], line 5\u001B[0m\n\u001B[1;32m      3\u001B[0m protease_data_prot \u001B[38;5;241m=\u001B[39m {}\n\u001B[1;32m      4\u001B[0m \u001B[38;5;28;01mfor\u001B[39;00m pdb_id \u001B[38;5;129;01min\u001B[39;00m protease_list:\n\u001B[0;32m----> 5\u001B[0m     prot \u001B[38;5;241m=\u001B[39m \u001B[43mmdtraj\u001B[49m\u001B[38;5;241;43m.\u001B[39;49m\u001B[43mload\u001B[49m\u001B[43m(\u001B[49m\u001B[38;5;124;43m'\u001B[39;49m\u001B[38;5;124;43mBeta_Cluster_features/protein_\u001B[39;49m\u001B[38;5;124;43m'\u001B[39;49m\u001B[43m \u001B[49m\u001B[38;5;241;43m+\u001B[39;49m\u001B[43m \u001B[49m\u001B[43mpdb_id\u001B[49m\u001B[43m \u001B[49m\u001B[38;5;241;43m+\u001B[39;49m\u001B[43m \u001B[49m\u001B[38;5;124;43m'\u001B[39;49m\u001B[38;5;124;43m.pdb\u001B[39;49m\u001B[38;5;124;43m'\u001B[39;49m\u001B[43m)\u001B[49m\n\u001B[1;32m      6\u001B[0m     protease_data_prot[pdb_id] \u001B[38;5;241m=\u001B[39m prot\n\u001B[1;32m      7\u001B[0m     lig \u001B[38;5;241m=\u001B[39m mdtraj\u001B[38;5;241m.\u001B[39mload(\u001B[38;5;124m'\u001B[39m\u001B[38;5;124mBeta_Cluster_features/ligand_\u001B[39m\u001B[38;5;124m'\u001B[39m \u001B[38;5;241m+\u001B[39m pdb_id \u001B[38;5;241m+\u001B[39m \u001B[38;5;124m'\u001B[39m\u001B[38;5;124m.pdb\u001B[39m\u001B[38;5;124m'\u001B[39m)\n",
      "File \u001B[0;32m~/miniconda3/envs/alphaspace/lib/python3.9/site-packages/mdtraj/core/trajectory.py:396\u001B[0m, in \u001B[0;36mload\u001B[0;34m(filename_or_filenames, discard_overlapping_frames, **kwargs)\u001B[0m\n\u001B[1;32m    394\u001B[0m topkwargs\u001B[38;5;241m.\u001B[39mpop(\u001B[38;5;124m\"\u001B[39m\u001B[38;5;124mstride\u001B[39m\u001B[38;5;124m\"\u001B[39m, \u001B[38;5;28;01mNone\u001B[39;00m)\n\u001B[1;32m    395\u001B[0m topkwargs\u001B[38;5;241m.\u001B[39mpop(\u001B[38;5;124m\"\u001B[39m\u001B[38;5;124mstart\u001B[39m\u001B[38;5;124m\"\u001B[39m, \u001B[38;5;28;01mNone\u001B[39;00m)\n\u001B[0;32m--> 396\u001B[0m kwargs[\u001B[38;5;124m\"\u001B[39m\u001B[38;5;124mtop\u001B[39m\u001B[38;5;124m\"\u001B[39m] \u001B[38;5;241m=\u001B[39m \u001B[43m_parse_topology\u001B[49m\u001B[43m(\u001B[49m\n\u001B[1;32m    397\u001B[0m \u001B[43m    \u001B[49m\u001B[43mkwargs\u001B[49m\u001B[38;5;241;43m.\u001B[39;49m\u001B[43mget\u001B[49m\u001B[43m(\u001B[49m\u001B[38;5;124;43m\"\u001B[39;49m\u001B[38;5;124;43mtop\u001B[39;49m\u001B[38;5;124;43m\"\u001B[39;49m\u001B[43m,\u001B[49m\u001B[43m \u001B[49m\u001B[43mfilename_or_filenames\u001B[49m\u001B[43m[\u001B[49m\u001B[38;5;241;43m0\u001B[39;49m\u001B[43m]\u001B[49m\u001B[43m)\u001B[49m\u001B[43m,\u001B[49m\n\u001B[1;32m    398\u001B[0m \u001B[43m    \u001B[49m\u001B[38;5;241;43m*\u001B[39;49m\u001B[38;5;241;43m*\u001B[39;49m\u001B[43mtopkwargs\u001B[49m\u001B[43m,\u001B[49m\n\u001B[1;32m    399\u001B[0m \u001B[43m\u001B[49m\u001B[43m)\u001B[49m\n\u001B[1;32m    401\u001B[0m \u001B[38;5;66;03m# get the right loader\u001B[39;00m\n\u001B[1;32m    402\u001B[0m \u001B[38;5;28;01mtry\u001B[39;00m:\n\u001B[1;32m    403\u001B[0m     \u001B[38;5;66;03m# loader = _LoaderRegistry[extension][0]\u001B[39;00m\n",
      "File \u001B[0;32m~/miniconda3/envs/alphaspace/lib/python3.9/site-packages/mdtraj/core/trajectory.py:170\u001B[0m, in \u001B[0;36m_parse_topology\u001B[0;34m(top, **kwargs)\u001B[0m\n\u001B[1;32m    168\u001B[0m     topology \u001B[38;5;241m=\u001B[39m top\u001B[38;5;241m.\u001B[39mtopology\n\u001B[1;32m    169\u001B[0m \u001B[38;5;28;01melif\u001B[39;00m \u001B[38;5;28misinstance\u001B[39m(top, (\u001B[38;5;28mstr\u001B[39m, os\u001B[38;5;241m.\u001B[39mPathLike)) \u001B[38;5;129;01mand\u001B[39;00m (ext \u001B[38;5;129;01min\u001B[39;00m [\u001B[38;5;124m\"\u001B[39m\u001B[38;5;124m.pdb\u001B[39m\u001B[38;5;124m\"\u001B[39m, \u001B[38;5;124m\"\u001B[39m\u001B[38;5;124m.pdb.gz\u001B[39m\u001B[38;5;124m\"\u001B[39m, \u001B[38;5;124m\"\u001B[39m\u001B[38;5;124m.pdbx\u001B[39m\u001B[38;5;124m\"\u001B[39m, \u001B[38;5;124m\"\u001B[39m\u001B[38;5;124m.cif\u001B[39m\u001B[38;5;124m\"\u001B[39m, \u001B[38;5;124m\"\u001B[39m\u001B[38;5;124m.h5\u001B[39m\u001B[38;5;124m\"\u001B[39m, \u001B[38;5;124m\"\u001B[39m\u001B[38;5;124m.lh5\u001B[39m\u001B[38;5;124m\"\u001B[39m]):\n\u001B[0;32m--> 170\u001B[0m     _traj \u001B[38;5;241m=\u001B[39m \u001B[43mload_frame\u001B[49m\u001B[43m(\u001B[49m\u001B[43mtop\u001B[49m\u001B[43m,\u001B[49m\u001B[43m \u001B[49m\u001B[38;5;241;43m0\u001B[39;49m\u001B[43m,\u001B[49m\u001B[43m \u001B[49m\u001B[38;5;241;43m*\u001B[39;49m\u001B[38;5;241;43m*\u001B[39;49m\u001B[43mkwargs\u001B[49m\u001B[43m)\u001B[49m\n\u001B[1;32m    171\u001B[0m     topology \u001B[38;5;241m=\u001B[39m _traj\u001B[38;5;241m.\u001B[39mtopology\n\u001B[1;32m    172\u001B[0m \u001B[38;5;28;01melif\u001B[39;00m \u001B[38;5;28misinstance\u001B[39m(top, (\u001B[38;5;28mstr\u001B[39m, os\u001B[38;5;241m.\u001B[39mPathLike)) \u001B[38;5;129;01mand\u001B[39;00m (ext \u001B[38;5;129;01min\u001B[39;00m [\u001B[38;5;124m\"\u001B[39m\u001B[38;5;124m.prmtop\u001B[39m\u001B[38;5;124m\"\u001B[39m, \u001B[38;5;124m\"\u001B[39m\u001B[38;5;124m.parm7\u001B[39m\u001B[38;5;124m\"\u001B[39m, \u001B[38;5;124m\"\u001B[39m\u001B[38;5;124m.prm7\u001B[39m\u001B[38;5;124m\"\u001B[39m]):\n",
      "File \u001B[0;32m~/miniconda3/envs/alphaspace/lib/python3.9/site-packages/mdtraj/core/trajectory.py:309\u001B[0m, in \u001B[0;36mload_frame\u001B[0;34m(filename, index, top, atom_indices, **kwargs)\u001B[0m\n\u001B[1;32m    306\u001B[0m     kwargs[\u001B[38;5;124m\"\u001B[39m\u001B[38;5;124mtop\u001B[39m\u001B[38;5;124m\"\u001B[39m] \u001B[38;5;241m=\u001B[39m top\n\u001B[1;32m    308\u001B[0m \u001B[38;5;28;01mif\u001B[39;00m loader\u001B[38;5;241m.\u001B[39m\u001B[38;5;18m__name__\u001B[39m \u001B[38;5;129;01mnot\u001B[39;00m \u001B[38;5;129;01min\u001B[39;00m [\u001B[38;5;124m\"\u001B[39m\u001B[38;5;124mload_dtr\u001B[39m\u001B[38;5;124m\"\u001B[39m]:\n\u001B[0;32m--> 309\u001B[0m     \u001B[43m_assert_files_exist\u001B[49m\u001B[43m(\u001B[49m\u001B[43mfilename\u001B[49m\u001B[43m)\u001B[49m\n\u001B[1;32m    310\u001B[0m \u001B[38;5;28;01melse\u001B[39;00m:\n\u001B[1;32m    311\u001B[0m     _assert_files_or_dirs_exist(filename)\n",
      "File \u001B[0;32m~/miniconda3/envs/alphaspace/lib/python3.9/site-packages/mdtraj/core/trajectory.py:108\u001B[0m, in \u001B[0;36m_assert_files_exist\u001B[0;34m(filenames)\u001B[0m\n\u001B[1;32m    106\u001B[0m \u001B[38;5;28;01mfor\u001B[39;00m fn \u001B[38;5;129;01min\u001B[39;00m filenames:\n\u001B[1;32m    107\u001B[0m     \u001B[38;5;28;01mif\u001B[39;00m \u001B[38;5;129;01mnot\u001B[39;00m (os\u001B[38;5;241m.\u001B[39mpath\u001B[38;5;241m.\u001B[39mexists(fn) \u001B[38;5;129;01mand\u001B[39;00m os\u001B[38;5;241m.\u001B[39mpath\u001B[38;5;241m.\u001B[39misfile(fn)):\n\u001B[0;32m--> 108\u001B[0m         \u001B[38;5;28;01mraise\u001B[39;00m \u001B[38;5;167;01mOSError\u001B[39;00m(\u001B[38;5;124m\"\u001B[39m\u001B[38;5;124mNo such file: \u001B[39m\u001B[38;5;132;01m%s\u001B[39;00m\u001B[38;5;124m\"\u001B[39m \u001B[38;5;241m%\u001B[39m fn)\n",
      "\u001B[0;31mOSError\u001B[0m: No such file: Beta_Cluster_features/protein_1c70.pdb"
     ]
    }
   ],
   "execution_count": 6
  },
  {
   "cell_type": "code",
   "metadata": {},
   "source": [
    "protease_contact_pockets = defaultdict(dict)\n",
    "for pdb_id in protease_data_ss:\n",
    "    for px,pocket in enumerate(protease_data_ss[pdb_id].pockets):\n",
    "        if pocket.isContact:\n",
    "            protease_contact_pockets[pdb_id][px] = np.array([b.xyz for b in pocket.betas])\n",
    "            "
   ],
   "outputs": [],
   "execution_count": null
  },
  {
   "cell_type": "markdown",
   "metadata": {},
   "source": [
    "### Calculate some beta cluster features "
   ]
  },
  {
   "cell_type": "code",
   "metadata": {},
   "source": [
    "protease_contact_pockets = defaultdict(dict)\n",
    "for pdb_id in protease_data_ss:\n",
    "    for px,pocket in enumerate(protease_data_ss[pdb_id].pockets):\n",
    "        if pocket.isContact:\n",
    "            protease_contact_pockets[pdb_id][px] = np.array([b.xyz for b in pocket.betas])\n",
    "            \n",
    "protease_pocket_props_dict = {}\n",
    "for pdb_id in protease_contact_pockets:\n",
    "    contact_betas = []\n",
    "    prot = protease_data_prot[pdb_id]\n",
    "    for px in protease_contact_pockets[pdb_id]:\n",
    "        contact_betas.extend(protease_contact_pockets[pdb_id][px])\n",
    "    contact_betas = np.array(contact_betas)\n",
    "    beta_temp_dict = {}\n",
    "    beta_temp_dict['occluded_asa'] = features._get_pharmacophore_fingerprint(prot,contact_betas)\n",
    "    beta_temp_dict['usr'] = features._Get_USR_alpha_beta(contact_betas)\n",
    "    beta_temp_dict['normalized_PMI'] = features._calculate_NormalizedRatioPMI(contact_betas)\n",
    "    beta_temp_dict['span'] = features._calculate_SPAN(contact_betas)\n",
    "    beta_temp_dict['radius_of_gyration'] = features._calculate_RadiusofGyration(contact_betas)    \n",
    "    protease_pocket_props_dict[pdb_id] = beta_temp_dict     "
   ],
   "outputs": [],
   "execution_count": null
  },
  {
   "cell_type": "markdown",
   "metadata": {},
   "source": [
    "### Repeat calculation for ligands"
   ]
  },
  {
   "cell_type": "code",
   "metadata": {},
   "source": [
    "protease_ligand_props_dict = {}\n",
    "for pdb_id in protease_data_prot:\n",
    "    lig = protease_data_lig[pdb_id]\n",
    "    prot = protease_data_prot[pdb_id]\n",
    "    lig_coords = lig.xyz[0]*10   ### multiply by 10 to convert nm to Angstrom\n",
    "    lig_temp_dict = {}\n",
    "    lig_temp_dict['occluded_asa'] = features._get_pharmacophore_fingerprint(prot,lig_coords)\n",
    "    lig_temp_dict['usr'] = features._Get_USR_alpha_beta(lig_coords)\n",
    "    lig_temp_dict['normalized_PMI'] = features._calculate_NormalizedRatioPMI(lig_coords)\n",
    "    lig_temp_dict['span'] = features._calculate_SPAN(lig_coords)\n",
    "    lig_temp_dict['radius_of_gyration'] = features._calculate_RadiusofGyration(lig_coords)    \n",
    "    protease_ligand_props_dict[pdb_id] = lig_temp_dict         "
   ],
   "outputs": [],
   "execution_count": null
  },
  {
   "cell_type": "markdown",
   "metadata": {},
   "source": [
    "### Save data into a pandas dataframe"
   ]
  },
  {
   "cell_type": "code",
   "metadata": {},
   "source": [
    "pocket_ligand_data = pd.DataFrame()"
   ],
   "outputs": [],
   "execution_count": null
  },
  {
   "cell_type": "code",
   "metadata": {},
   "source": [
    "field_subfields = {'occluded_asa':['Total_OASA', 'Positive_OASA', 'Negative_OASA', 'H_bond_Donor_OASA', 'H_bond_Acceptor_OASA', 'H_bond_Doneptor_OASA', 'Aromatic_OASA', 'Hydrophobic_OASA', 'Polar_OASA', 'Null_type_OASA'],\n",
    "                  'usr':['ctd_1', 'ctd_2', 'ctd_3', 'cst_1', 'cst_2', 'cst_3', 'fct_1', 'fct_2', 'fct_3', 'ftf_1', 'ftf_2', 'ftf_3'],\n",
    "                  'normalized_PMI':['NPR1', 'NPR2']}"
   ],
   "outputs": [],
   "execution_count": null
  },
  {
   "cell_type": "code",
   "metadata": {},
   "source": [
    "pdb_id = list(protease_pocket_props_dict.keys())\n",
    "pocket_ligand_data['PDB_ID'] = pdb_id\n",
    "for field in field_subfields:\n",
    "    for sub in field_subfields[field]:\n",
    "        temp_row = []\n",
    "        for pdb in pdb_id:\n",
    "            temp_row.append(protease_pocket_props_dict[pdb][field][sub])\n",
    "        pocket_ligand_data['protein_'+sub] = temp_row\n",
    "    for sub in field_subfields[field]:\n",
    "        temp_row = []\n",
    "        for pdb in pdb_id:\n",
    "            temp_row.append(protease_ligand_props_dict[pdb][field][sub])\n",
    "        pocket_ligand_data['ligand_'+sub] = temp_row\n",
    "\n",
    "for field in ['span', 'radius_of_gyration']:\n",
    "    temp_row = []\n",
    "    for pdb in pdb_id:\n",
    "        temp_row.append(protease_pocket_props_dict[pdb][field])\n",
    "    pocket_ligand_data['protein_'+field] = temp_row\n",
    "    temp_row = []\n",
    "    for pdb in pdb_id:\n",
    "        temp_row.append(protease_ligand_props_dict[pdb][field])\n",
    "    pocket_ligand_data['ligand_'+field] = temp_row\n",
    "        "
   ],
   "outputs": [],
   "execution_count": null
  },
  {
   "cell_type": "markdown",
   "metadata": {},
   "source": [
    "### Displaying properties in dataframe"
   ]
  },
  {
   "cell_type": "code",
   "metadata": {},
   "source": [
    "pocket_ligand_data[['PDB_ID','protein_Total_OASA','ligand_Total_OASA','protein_span','ligand_span','protein_radius_of_gyration','ligand_radius_of_gyration']]"
   ],
   "outputs": [],
   "execution_count": null
  },
  {
   "cell_type": "markdown",
   "metadata": {},
   "source": [
    "### Beta Clusters allow for the direct comparison of ligands and their binding site pockets. Here we calculate the similarity of the ligands and beta pockets based on their occluded surface area features "
   ]
  },
  {
   "cell_type": "code",
   "metadata": {},
   "source": [
    "temp_row = []\n",
    "for pdb_id in protease_list:\n",
    "    oasa_pocket = [s for _,s in protease_pocket_props_dict[pdb_id]['occluded_asa'].items()]\n",
    "    oasa_ligand = [s for _,s in protease_ligand_props_dict[pdb_id]['occluded_asa'].items()]\n",
    "    similarity = 1 - features._soergel(oasa_pocket,oasa_ligand)\n",
    "    temp_row.append(similarity)\n",
    "\n",
    "pocket_ligand_data['OASA_similarity'] = temp_row\n",
    "pocket_ligand_data[['PDB_ID','OASA_similarity']]"
   ],
   "outputs": [],
   "execution_count": null
  },
  {
   "cell_type": "markdown",
   "metadata": {},
   "source": [
    "### Likewise, we calculate their similarity based on USR features "
   ]
  },
  {
   "cell_type": "code",
   "metadata": {},
   "source": [
    "temp_row = []\n",
    "for pdb_id in protease_list:\n",
    "    usr_pocket = [s for _,s in protease_pocket_props_dict[pdb_id]['usr'].items()]\n",
    "    usr_ligand = [s for _,s in protease_ligand_props_dict[pdb_id]['usr'].items()]\n",
    "    similarity = 1 - features._soergel(usr_pocket,usr_ligand)\n",
    "    temp_row.append(similarity)\n",
    "\n",
    "pocket_ligand_data['USR_similarity'] = temp_row\n",
    "pocket_ligand_data[['PDB_ID','USR_similarity']]"
   ],
   "outputs": [],
   "execution_count": null
  },
  {
   "cell_type": "code",
   "metadata": {},
   "source": [],
   "outputs": [],
   "execution_count": null
  },
  {
   "cell_type": "code",
   "metadata": {},
   "source": [],
   "outputs": [],
   "execution_count": null
  }
 ],
 "metadata": {
  "kernelspec": {
   "display_name": "Python 3",
   "language": "python",
   "name": "python3"
  },
  "language_info": {
   "codemirror_mode": {
    "name": "ipython",
    "version": 3
   },
   "file_extension": ".py",
   "mimetype": "text/x-python",
   "name": "python",
   "nbconvert_exporter": "python",
   "pygments_lexer": "ipython3",
   "version": "3.6.7"
  }
 },
 "nbformat": 4,
 "nbformat_minor": 2
}
