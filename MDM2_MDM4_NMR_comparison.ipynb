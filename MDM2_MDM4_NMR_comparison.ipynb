{
 "cells": [
  {
   "cell_type": "code",
   "execution_count": 2,
   "metadata": {},
   "outputs": [],
   "source": [
    "import alphaspace2 as al\n",
    "import mdtraj\n",
    "import numpy as np\n",
    "from scipy.spatial.distance import cdist\n",
    "from scipy.cluster.hierarchy import fcluster, linkage\n",
    "from alphaspace2.functions import _binCluster, _group\n",
    "from alphaspace2.Cluster import _DPocket\n",
    "import pandas as pd"
   ]
  },
  {
   "cell_type": "markdown",
   "metadata": {},
   "source": [
    "## In this tutorial, we apply the the ensemble pockets for the comparison of MDM2 and MDM4 to find similar and distinct pokets on their PPI interfaces"
   ]
  },
  {
   "cell_type": "markdown",
   "metadata": {},
   "source": [
    "### Use this function to strip hydrogens from the pdbqt files"
   ]
  },
  {
   "cell_type": "code",
   "execution_count": 1,
   "metadata": {},
   "outputs": [],
   "source": [
    "def strip_h(input_file,output_file):\n",
    "    '''\n",
    "    input_file and output_file need to be in pdb or pdbqt format \n",
    "    '''\n",
    "    inputlines = open(input_file,'r').readlines()\n",
    "    no_h_lines = [l for l in inputlines if not l.split()[-1].startswith('H')] \n",
    "    output = open(output_file,'w')\n",
    "    output.writelines(no_h_lines)\n",
    "    output.close()"
   ]
  },
  {
   "cell_type": "code",
   "execution_count": 7,
   "metadata": {},
   "outputs": [],
   "source": [
    "strip_h(\"MDM2_MDM4_NMR_comparison/2mps_snapshot_1.pdbqt\",\"MDM2_MDM4_NMR_comparison/2mps_snapshot_1_noH.pdbqt\")\n",
    "strip_h(\"MDM2_MDM4_NMR_comparison/2mwy_snapshot_1.pdbqt\",\"MDM2_MDM4_NMR_comparison/2mwy_snapshot_1_noH.pdbqt\")"
   ]
  },
  {
   "cell_type": "markdown",
   "metadata": {},
   "source": [
    "### Parsing NMR structures of the pre-aligned MDM2 and MDM4 structures (Read and save each conformer as temp.pdb and load into mdtraj object)"
   ]
  },
  {
   "cell_type": "code",
   "execution_count": 8,
   "metadata": {},
   "outputs": [],
   "source": [
    "mdm2_prots = []\n",
    "with open('MDM2_MDM4_NMR_comparison/2mps_receptor_clean.pdb','r') as f:\n",
    "    protein_pdb = []\n",
    "    for r in f:\n",
    "        protein_pdb.append(r)\n",
    "        if r[0:6] == 'ENDMDL':\n",
    "            with open('temp.pdb','w') as g:\n",
    "                g.writelines(protein_pdb)\n",
    "            mdm2_prots.append(mdtraj.load('temp.pdb'))\n",
    "            protein_pdb = []"
   ]
  },
  {
   "cell_type": "code",
   "execution_count": 9,
   "metadata": {},
   "outputs": [],
   "source": [
    "mdm4_prots = []\n",
    "with open('MDM2_MDM4_NMR_comparison/2mwy_receptor_clean.pdb','r') as f:\n",
    "    protein_pdb = []\n",
    "    for r in f:\n",
    "        if r[0:6] == 'ATOM  ':\n",
    "            protein_pdb.append(r)\n",
    "        if r[0:6] == 'ENDMDL':\n",
    "            with open('temp.pdb','w') as g:\n",
    "                g.writelines(protein_pdb)\n",
    "            mdm4_prots.append(mdtraj.load('temp.pdb'))\n",
    "            protein_pdb = []"
   ]
  },
  {
   "cell_type": "code",
   "execution_count": 10,
   "metadata": {},
   "outputs": [],
   "source": [
    "for mdm2 in mdm2_prots:\n",
    "    al.annotateVinaAtomTypes(pdbqt = \"MDM2_MDM4_NMR_comparison/2mps_snapshot_1_noH.pdbqt\", receptor=mdm2)"
   ]
  },
  {
   "cell_type": "code",
   "execution_count": 11,
   "metadata": {},
   "outputs": [],
   "source": [
    "for mdm4 in mdm4_prots:\n",
    "    al.annotateVinaAtomTypes(pdbqt = \"MDM2_MDM4_NMR_comparison/2mwy_snapshot_1_noH.pdbqt\", receptor=mdm4)"
   ]
  },
  {
   "cell_type": "markdown",
   "metadata": {},
   "source": [
    "### Running alphaspace on each snapshot"
   ]
  },
  {
   "cell_type": "code",
   "execution_count": 12,
   "metadata": {},
   "outputs": [],
   "source": [
    "mdm2_ss = []\n",
    "for mdm2 in mdm2_prots:\n",
    "    ss_temp = al.Snapshot()\n",
    "    ss_temp.run(mdm2)\n",
    "    mdm2_ss.append(ss_temp)\n",
    "\n",
    "mdm4_ss = []\n",
    "for mdm4 in mdm4_prots:\n",
    "    ss_temp = al.Snapshot()\n",
    "    ss_temp.run(mdm4)\n",
    "    mdm4_ss.append(ss_temp)"
   ]
  },
  {
   "cell_type": "markdown",
   "metadata": {},
   "source": [
    "#### There are 20 nmr structures for MDM2 and MDM4 each for a total of 40 structures "
   ]
  },
  {
   "cell_type": "code",
   "execution_count": 13,
   "metadata": {},
   "outputs": [
    {
     "data": {
      "text/plain": [
       "(20, 20)"
      ]
     },
     "execution_count": 13,
     "metadata": {},
     "output_type": "execute_result"
    }
   ],
   "source": [
    "len(mdm2_ss),len(mdm4_ss)"
   ]
  },
  {
   "cell_type": "markdown",
   "metadata": {},
   "source": [
    "### Creating trajectory object and running D-pockets"
   ]
  },
  {
   "cell_type": "code",
   "execution_count": 14,
   "metadata": {},
   "outputs": [],
   "source": [
    "mdm2_mdm4 = al.Trajectory(snapshots=[ss for ss in mdm2_ss] + [ss for ss in mdm4_ss])\n",
    "mdm2_mdm4.gen_dpockets(clust_distance=4.7)\n",
    "contact_pockets = []\n",
    "dps = sorted([dp for dp in mdm2_mdm4.dpockets],key=lambda i:sum(i.scores))"
   ]
  },
  {
   "cell_type": "markdown",
   "metadata": {},
   "source": [
    "### Saving the pockets and scores list into dictionaries\n",
    "### The scores and coordinates of each pocket is saved to their own conformer ID"
   ]
  },
  {
   "cell_type": "code",
   "execution_count": 15,
   "metadata": {},
   "outputs": [],
   "source": [
    "contact_pockets_dict = {'MDM2':{},'MDM4':{}}\n",
    "scores_pockets_dict = {'MDM2':{},'MDM4':{}}\n",
    "for dpx,dp in enumerate(dps):\n",
    "    pockets = list(dp.pockets)\n",
    "    ### MDM2 snapshots are from 0:20 ###\n",
    "    mdm2_coords_temp_list = []\n",
    "    mdm2_score_temp_list = []\n",
    "    for px,pock in enumerate(pockets[0:20]):\n",
    "        if pock.score!=0:\n",
    "            mdm2_coords_temp_list.append((px,np.array([b.xyz for b in pock.betas])))\n",
    "            mdm2_score_temp_list.append((px,pock.score))\n",
    "    mdm4_coords_temp_list = []\n",
    "    mdm4_score_temp_list = []\n",
    "    ### MDM4 snapshots are from 20:40 ###\n",
    "    for px,pock in enumerate(pockets[20:]):\n",
    "        if pock.score!=0:\n",
    "            mdm4_coords_temp_list.append((px,np.array([b.xyz for b in pock.betas])))\n",
    "            mdm4_score_temp_list.append((px,pock.score))\n",
    "    if mdm2_coords_temp_list:\n",
    "        contact_pockets_dict['MDM2'][dpx] = {}\n",
    "        scores_pockets_dict['MDM2'][dpx] = {}\n",
    "        for coords,scores in zip(mdm2_coords_temp_list,mdm2_score_temp_list):\n",
    "            contact_pockets_dict['MDM2'][dpx][coords[0]] = coords[1]\n",
    "            scores_pockets_dict['MDM2'][dpx][scores[0]] = scores[1]            \n",
    "    if mdm4_coords_temp_list:\n",
    "        contact_pockets_dict['MDM4'][dpx] = {}\n",
    "        scores_pockets_dict['MDM4'][dpx] = {}\n",
    "        for coords,scores in zip(mdm4_coords_temp_list,mdm4_score_temp_list):\n",
    "            contact_pockets_dict['MDM4'][dpx][coords[0]] = coords[1]\n",
    "            scores_pockets_dict['MDM4'][dpx][scores[0]] = scores[1]     "
   ]
  },
  {
   "cell_type": "code",
   "execution_count": null,
   "metadata": {},
   "outputs": [],
   "source": []
  },
  {
   "cell_type": "markdown",
   "metadata": {},
   "source": [
    "### These pockets correspond to the selected interface pockets, which will be saved into pandas dataframe "
   ]
  },
  {
   "cell_type": "code",
   "execution_count": 22,
   "metadata": {},
   "outputs": [],
   "source": [
    "selecting_pockets = [0,1,11,6,46,52,61,25,22,19,58,70]"
   ]
  },
  {
   "cell_type": "code",
   "execution_count": 24,
   "metadata": {},
   "outputs": [],
   "source": [
    "pocket_data = pd.DataFrame()"
   ]
  },
  {
   "cell_type": "code",
   "execution_count": 25,
   "metadata": {},
   "outputs": [
    {
     "data": {
      "text/html": [
       "<div>\n",
       "<style scoped>\n",
       "    .dataframe tbody tr th:only-of-type {\n",
       "        vertical-align: middle;\n",
       "    }\n",
       "\n",
       "    .dataframe tbody tr th {\n",
       "        vertical-align: top;\n",
       "    }\n",
       "\n",
       "    .dataframe thead th {\n",
       "        text-align: right;\n",
       "    }\n",
       "</style>\n",
       "<table border=\"1\" class=\"dataframe\">\n",
       "  <thead>\n",
       "    <tr style=\"text-align: right;\">\n",
       "      <th></th>\n",
       "      <th>Pocket_list</th>\n",
       "      <th>MDM2_mean_scores</th>\n",
       "      <th>MDM2_std_scores</th>\n",
       "      <th>MDM4_mean_scores</th>\n",
       "      <th>MDM4_std_scores</th>\n",
       "    </tr>\n",
       "  </thead>\n",
       "  <tbody>\n",
       "    <tr>\n",
       "      <th>0</th>\n",
       "      <td>0</td>\n",
       "      <td>-4.451615</td>\n",
       "      <td>0.571720</td>\n",
       "      <td>-5.697938</td>\n",
       "      <td>0.700232</td>\n",
       "    </tr>\n",
       "    <tr>\n",
       "      <th>1</th>\n",
       "      <td>1</td>\n",
       "      <td>-4.979424</td>\n",
       "      <td>0.593529</td>\n",
       "      <td>-4.949012</td>\n",
       "      <td>0.432800</td>\n",
       "    </tr>\n",
       "    <tr>\n",
       "      <th>2</th>\n",
       "      <td>11</td>\n",
       "      <td>-2.626158</td>\n",
       "      <td>0.586426</td>\n",
       "      <td>-1.608336</td>\n",
       "      <td>0.334276</td>\n",
       "    </tr>\n",
       "    <tr>\n",
       "      <th>3</th>\n",
       "      <td>6</td>\n",
       "      <td>-2.618875</td>\n",
       "      <td>0.841765</td>\n",
       "      <td>-2.169853</td>\n",
       "      <td>0.720392</td>\n",
       "    </tr>\n",
       "    <tr>\n",
       "      <th>4</th>\n",
       "      <td>46</td>\n",
       "      <td>-0.964470</td>\n",
       "      <td>0.337507</td>\n",
       "      <td>-1.046953</td>\n",
       "      <td>0.574912</td>\n",
       "    </tr>\n",
       "    <tr>\n",
       "      <th>5</th>\n",
       "      <td>52</td>\n",
       "      <td>-1.014148</td>\n",
       "      <td>0.458451</td>\n",
       "      <td>-0.830257</td>\n",
       "      <td>0.276151</td>\n",
       "    </tr>\n",
       "    <tr>\n",
       "      <th>6</th>\n",
       "      <td>61</td>\n",
       "      <td>-0.685381</td>\n",
       "      <td>0.167104</td>\n",
       "      <td>-0.924391</td>\n",
       "      <td>0.213656</td>\n",
       "    </tr>\n",
       "    <tr>\n",
       "      <th>7</th>\n",
       "      <td>25</td>\n",
       "      <td>-1.515375</td>\n",
       "      <td>0.308875</td>\n",
       "      <td>-1.279616</td>\n",
       "      <td>0.310765</td>\n",
       "    </tr>\n",
       "    <tr>\n",
       "      <th>8</th>\n",
       "      <td>22</td>\n",
       "      <td>-2.266832</td>\n",
       "      <td>0.576468</td>\n",
       "      <td>-0.712842</td>\n",
       "      <td>0.346529</td>\n",
       "    </tr>\n",
       "    <tr>\n",
       "      <th>9</th>\n",
       "      <td>19</td>\n",
       "      <td>-1.188619</td>\n",
       "      <td>0.342874</td>\n",
       "      <td>-1.754278</td>\n",
       "      <td>0.404069</td>\n",
       "    </tr>\n",
       "    <tr>\n",
       "      <th>10</th>\n",
       "      <td>58</td>\n",
       "      <td>0.000000</td>\n",
       "      <td>0.000000</td>\n",
       "      <td>-1.688390</td>\n",
       "      <td>0.558483</td>\n",
       "    </tr>\n",
       "    <tr>\n",
       "      <th>11</th>\n",
       "      <td>70</td>\n",
       "      <td>-0.799840</td>\n",
       "      <td>0.262044</td>\n",
       "      <td>-0.496189</td>\n",
       "      <td>0.205116</td>\n",
       "    </tr>\n",
       "  </tbody>\n",
       "</table>\n",
       "</div>"
      ],
      "text/plain": [
       "    Pocket_list  MDM2_mean_scores  MDM2_std_scores  MDM4_mean_scores  \\\n",
       "0             0         -4.451615         0.571720         -5.697938   \n",
       "1             1         -4.979424         0.593529         -4.949012   \n",
       "2            11         -2.626158         0.586426         -1.608336   \n",
       "3             6         -2.618875         0.841765         -2.169853   \n",
       "4            46         -0.964470         0.337507         -1.046953   \n",
       "5            52         -1.014148         0.458451         -0.830257   \n",
       "6            61         -0.685381         0.167104         -0.924391   \n",
       "7            25         -1.515375         0.308875         -1.279616   \n",
       "8            22         -2.266832         0.576468         -0.712842   \n",
       "9            19         -1.188619         0.342874         -1.754278   \n",
       "10           58          0.000000         0.000000         -1.688390   \n",
       "11           70         -0.799840         0.262044         -0.496189   \n",
       "\n",
       "    MDM4_std_scores  \n",
       "0          0.700232  \n",
       "1          0.432800  \n",
       "2          0.334276  \n",
       "3          0.720392  \n",
       "4          0.574912  \n",
       "5          0.276151  \n",
       "6          0.213656  \n",
       "7          0.310765  \n",
       "8          0.346529  \n",
       "9          0.404069  \n",
       "10         0.558483  \n",
       "11         0.205116  "
      ]
     },
     "execution_count": 25,
     "metadata": {},
     "output_type": "execute_result"
    }
   ],
   "source": [
    "mdm2_mean_list,mdm2_std_list = [],[]\n",
    "mdm4_mean_list,mdm4_std_list = [],[]\n",
    "for pock in selecting_pockets:\n",
    "    mdm2_list,mdm4_list = [],[]\n",
    "    a,aa,b,bb = 0,0,0,0\n",
    "    if pock in scores_pockets_dict['MDM2']:\n",
    "        for ix,val in scores_pockets_dict['MDM2'][pock].items():\n",
    "            mdm2_list.append(val)\n",
    "        a,aa = np.mean(mdm2_list),np.std(mdm2_list)\n",
    "    if pock in scores_pockets_dict['MDM4']:\n",
    "        for ix,val in scores_pockets_dict['MDM4'][pock].items():\n",
    "            mdm4_list.append(val)\n",
    "        b,bb = np.mean(mdm4_list),np.std(mdm4_list)\n",
    "    mdm2_mean_list.append(a)\n",
    "    mdm2_std_list.append(aa)\n",
    "    mdm4_mean_list.append(b)\n",
    "    mdm4_std_list.append(bb)    \n",
    "pocket_data['Pocket_list'] = selecting_pockets\n",
    "pocket_data['MDM2_mean_scores'] = mdm2_mean_list\n",
    "pocket_data['MDM2_std_scores'] = mdm2_std_list\n",
    "pocket_data['MDM4_mean_scores'] = mdm4_mean_list\n",
    "pocket_data['MDM4_std_scores'] = mdm4_std_list\n",
    "pocket_data"
   ]
  },
  {
   "cell_type": "markdown",
   "metadata": {},
   "source": [
    "### Lets calculate some features to compare "
   ]
  },
  {
   "cell_type": "code",
   "execution_count": 16,
   "metadata": {},
   "outputs": [],
   "source": [
    "import features  ## python module with pseudomolecular features\n",
    "from collections import defaultdict \n",
    "import matplotlib.pyplot as plt"
   ]
  },
  {
   "cell_type": "code",
   "execution_count": null,
   "metadata": {},
   "outputs": [],
   "source": []
  },
  {
   "cell_type": "markdown",
   "metadata": {},
   "source": [
    "### Lets get the local similarity of the PHE (pocket 0), TRP (pocket 1), and LEU (pocket 11)"
   ]
  },
  {
   "cell_type": "code",
   "execution_count": 17,
   "metadata": {},
   "outputs": [],
   "source": [
    "mdm_props_dict = {'MDM2':{},'MDM4':{}}\n",
    "for mdm in ['MDM2','MDM4']:\n",
    "    for ix in range(0,20):\n",
    "        if mdm == 'MDM2':\n",
    "            prot = mdm2_prots[ix]\n",
    "        elif mdm == 'MDM4':\n",
    "            prot = mdm4_prots[ix]\n",
    "        contact_betas = []\n",
    "        for pock in [0,1,6]:\n",
    "            if pock in contact_pockets_dict[mdm] and ix in contact_pockets_dict[mdm][pock]:\n",
    "                contact_betas.extend(contact_pockets_dict[mdm][pock][ix])\n",
    "        contact_betas = np.array(contact_betas)\n",
    "        beta_temp_dict = {}\n",
    "        beta_temp_dict['occluded_asa'] = features._get_pharmacophore_fingerprint(prot,contact_betas)\n",
    "        beta_temp_dict['usr'] = features._Get_USR_alpha_beta(contact_betas)\n",
    "        mdm_props_dict[mdm][ix] = beta_temp_dict "
   ]
  },
  {
   "cell_type": "code",
   "execution_count": null,
   "metadata": {},
   "outputs": [],
   "source": []
  },
  {
   "cell_type": "markdown",
   "metadata": {},
   "source": [
    "### Define an array of occluded ASA features for the heatmap comparison ####"
   ]
  },
  {
   "cell_type": "code",
   "execution_count": 18,
   "metadata": {},
   "outputs": [],
   "source": [
    "oasa_arrays = []\n",
    "for ix in range(0,20):\n",
    "    oasa_arrays.append([s for _,s in mdm_props_dict['MDM2'][ix]['occluded_asa'].items()])\n",
    "for ix in range(0,20):\n",
    "    oasa_arrays.append([s for _,s in mdm_props_dict['MDM4'][ix]['occluded_asa'].items()])    \n",
    "    "
   ]
  },
  {
   "cell_type": "code",
   "execution_count": 19,
   "metadata": {},
   "outputs": [],
   "source": [
    "oasa_heatmap = np.ones((40,40))\n",
    "for ix in range(len(oasa_arrays)-1):\n",
    "    oasa_b1 = oasa_arrays[ix]\n",
    "    for jx in range(ix+1,len(oasa_arrays)):\n",
    "        oasa_b2 = oasa_arrays[jx]\n",
    "        sim = 1 - features._soergel(oasa_b1,oasa_b2)\n",
    "        oasa_heatmap[ix,jx] = sim\n",
    "        oasa_heatmap[jx,ix] = sim   "
   ]
  },
  {
   "cell_type": "markdown",
   "metadata": {},
   "source": [
    "### Lets use a threshold of 0.80 to Define similar pockets \n",
    "#### For the PHE,TRP, and LEU pockets, we see the oasa similarity can be used to roughly seperate the MDM2 and MDM4 similarities (0-19 correspond to MDM2 conformers and 20-39 correspond to MDM4 conformers)"
   ]
  },
  {
   "cell_type": "code",
   "execution_count": 22,
   "metadata": {},
   "outputs": [
    {
     "data": {
      "image/png": "[encoded data removed]",
      "text/plain": [
       "<Figure size 432x288 with 1 Axes>"
      ]
     },
     "metadata": {
      "needs_background": "light"
     },
     "output_type": "display_data"
    }
   ],
   "source": [
    "plt.imshow(oasa_heatmap, cmap='cool',vmin=0.80,vmax=1.0)\n",
    "plt.xticks([10,30],['MDM2','MDM4'],rotation=0)\n",
    "plt.yticks([10,30],['MDM2','MDM4'])\n",
    "plt.axis([0,39,0,39])\n",
    "plt.show()"
   ]
  },
  {
   "cell_type": "code",
   "execution_count": null,
   "metadata": {},
   "outputs": [],
   "source": []
  },
  {
   "cell_type": "code",
   "execution_count": null,
   "metadata": {},
   "outputs": [],
   "source": []
  }
 ],
 "metadata": {
  "kernelspec": {
   "display_name": "Python 3",
   "language": "python",
   "name": "python3"
  },
  "language_info": {
   "codemirror_mode": {
    "name": "ipython",
    "version": 3
   },
   "file_extension": ".py",
   "mimetype": "text/x-python",
   "name": "python",
   "nbconvert_exporter": "python",
   "pygments_lexer": "ipython3",
   "version": "3.6.7"
  }
 },
 "nbformat": 4,
 "nbformat_minor": 2
}
