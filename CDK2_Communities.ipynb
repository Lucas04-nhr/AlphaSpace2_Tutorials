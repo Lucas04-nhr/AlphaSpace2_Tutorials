{
 "cells": [
  {
   "cell_type": "code",
   "execution_count": 1,
   "metadata": {},
   "outputs": [],
   "source": [
    "import alphaspace2 as al\n",
    "import mdtraj\n",
    "import numpy as np\n",
    "from scipy.spatial.distance import cdist\n",
    "from scipy.cluster.hierarchy import fcluster, linkage\n",
    "from alphaspace2.functions import _binCluster, _group\n",
    "from alphaspace2.Cluster import _DPocket\n",
    "import pandas as pd\n",
    "import os"
   ]
  },
  {
   "cell_type": "code",
   "execution_count": 2,
   "metadata": {},
   "outputs": [],
   "source": [
    "from communities import genCommunityPocket,CoreCluster"
   ]
  },
  {
   "cell_type": "code",
   "execution_count": 3,
   "metadata": {},
   "outputs": [],
   "source": [
    "import features"
   ]
  },
  {
   "cell_type": "markdown",
   "metadata": {},
   "source": [
    "### Use this function to strip hydrogens from the pdbqt files"
   ]
  },
  {
   "cell_type": "code",
   "execution_count": 14,
   "metadata": {},
   "outputs": [],
   "source": [
    "def strip_h(input_file,output_file):\n",
    "    '''\n",
    "    input_file and output_file need to be in pdb or pdbqt format \n",
    "    '''\n",
    "    inputlines = open(input_file,'r').readlines()\n",
    "    no_h_lines = [l for l in inputlines if not l.split()[-1].startswith('H')] \n",
    "    output = open(output_file,'w')\n",
    "    output.writelines(no_h_lines)\n",
    "    output.close()"
   ]
  },
  {
   "cell_type": "code",
   "execution_count": 15,
   "metadata": {},
   "outputs": [],
   "source": [
    "strip_h(\"CDK2_Communities/cdk2_prot.pdbqt\",\"CDK2_Communities/cdk2_prot_noH.pdbqt\")"
   ]
  },
  {
   "cell_type": "markdown",
   "metadata": {},
   "source": [
    "## In this tutorial, we will be applying community detection for the full CDK2 surface\n",
    "\n",
    "### In the first part we calculate the beta clusters "
   ]
  },
  {
   "cell_type": "code",
   "execution_count": 16,
   "metadata": {},
   "outputs": [],
   "source": [
    "cdk2_prot = mdtraj.load('CDK2_Communities/cdk2_prot.pdb')\n",
    "al.annotateVinaAtomTypes(pdbqt=\"CDK2_Communities/cdk2_prot_noH.pdbqt\", receptor=cdk2_prot)"
   ]
  },
  {
   "cell_type": "code",
   "execution_count": 17,
   "metadata": {},
   "outputs": [],
   "source": [
    "ss_cdk2 = al.Snapshot()\n",
    "ss_cdk2.run(cdk2_prot)"
   ]
  },
  {
   "cell_type": "code",
   "execution_count": null,
   "metadata": {},
   "outputs": [],
   "source": []
  },
  {
   "cell_type": "code",
   "execution_count": null,
   "metadata": {},
   "outputs": [],
   "source": []
  },
  {
   "cell_type": "markdown",
   "metadata": {},
   "source": [
    "### For the next cell, we store pocket properties into dictionaries which will be used for generating the surface communities"
   ]
  },
  {
   "cell_type": "code",
   "execution_count": 19,
   "metadata": {},
   "outputs": [],
   "source": [
    "temp_space_dict = {}\n",
    "temp_coords_dict = {}\n",
    "temp_contact_dict = {}\n",
    "temp_score_dict = {}\n",
    "temp_centroids_dict = {}\n",
    "for px,pocket in enumerate(ss_cdk2.pockets):\n",
    "    temp_coords_dict[px] = [list(b.xyz) for b in pocket.betas]\n",
    "    temp_score_dict[px] = np.array([min(b.scores) for b in  pocket.betas])\n",
    "    temp_space_dict[px] = np.array([b.space for b in  pocket.betas])\n",
    "    temp_contact_dict[px] = list(pocket.lining_atoms_idx)\n",
    "    temp_centroids_dict[px] = pocket.centroid\n"
   ]
  },
  {
   "cell_type": "code",
   "execution_count": 20,
   "metadata": {},
   "outputs": [],
   "source": [
    "prot_coords = cdk2_prot.xyz[0]*10   ### change nm to Angstrom"
   ]
  },
  {
   "cell_type": "markdown",
   "metadata": {},
   "source": [
    "### Generating communities for the CDK2 surface using the genCommunityPocket function"
   ]
  },
  {
   "cell_type": "code",
   "execution_count": 21,
   "metadata": {},
   "outputs": [],
   "source": [
    "surface_communities = genCommunityPocket(prot_coords, temp_centroids_dict, temp_space_dict, \\\n",
    "                                            temp_contact_dict, temp_score_dict, \\\n",
    "                                            corecut = 100, auxcut = 30, tight_option = True, tight_cutoff_core = 12.5, tight_cutoff_aux = 6.5)"
   ]
  },
  {
   "cell_type": "markdown",
   "metadata": {},
   "source": [
    "### Calculate more features of beta clusters community "
   ]
  },
  {
   "cell_type": "code",
   "execution_count": 22,
   "metadata": {
    "scrolled": false
   },
   "outputs": [],
   "source": [
    "surface_communities_props = {}\n",
    "for cx,community in surface_communities.items():\n",
    "    temp_coords_array = []\n",
    "    for pock in community['core_pockets'] + community['aux_pockets']:\n",
    "        temp_coords_array.extend(temp_coords_dict[pock])\n",
    "    temp_coords_array = np.array(temp_coords_array)\n",
    "    volume = features._get_grid_volume(temp_coords_array)\n",
    "    occluded_asa = features._get_pharmacophore_fingerprint(cdk2_prot,temp_coords_array)\n",
    "    surface_communities_props[cx] = {}\n",
    "    surface_communities_props[cx]['space'] = community['space']\n",
    "    surface_communities_props[cx]['score'] = community['score']\n",
    "    surface_communities_props[cx]['volume'] = volume\n",
    "    surface_communities_props[cx]['occluded_asa'] = occluded_asa['Total_OASA']    \n",
    "    "
   ]
  },
  {
   "cell_type": "markdown",
   "metadata": {},
   "source": [
    "### We save the pocket communities into pandas dataframe for easier viewing and data manipulation"
   ]
  },
  {
   "cell_type": "code",
   "execution_count": 23,
   "metadata": {},
   "outputs": [
    {
     "data": {
      "text/html": [
       "<div>\n",
       "<style scoped>\n",
       "    .dataframe tbody tr th:only-of-type {\n",
       "        vertical-align: middle;\n",
       "    }\n",
       "\n",
       "    .dataframe tbody tr th {\n",
       "        vertical-align: top;\n",
       "    }\n",
       "\n",
       "    .dataframe thead th {\n",
       "        text-align: right;\n",
       "    }\n",
       "</style>\n",
       "<table border=\"1\" class=\"dataframe\">\n",
       "  <thead>\n",
       "    <tr style=\"text-align: right;\">\n",
       "      <th></th>\n",
       "      <th>space</th>\n",
       "      <th>score</th>\n",
       "      <th>volume</th>\n",
       "      <th>occluded_asa</th>\n",
       "    </tr>\n",
       "  </thead>\n",
       "  <tbody>\n",
       "    <tr>\n",
       "      <th>0</th>\n",
       "      <td>1472.0</td>\n",
       "      <td>-28.62</td>\n",
       "      <td>690.250</td>\n",
       "      <td>619.090723</td>\n",
       "    </tr>\n",
       "    <tr>\n",
       "      <th>1</th>\n",
       "      <td>1199.0</td>\n",
       "      <td>-18.89</td>\n",
       "      <td>574.125</td>\n",
       "      <td>675.705542</td>\n",
       "    </tr>\n",
       "    <tr>\n",
       "      <th>2</th>\n",
       "      <td>889.0</td>\n",
       "      <td>-15.69</td>\n",
       "      <td>474.500</td>\n",
       "      <td>516.936319</td>\n",
       "    </tr>\n",
       "    <tr>\n",
       "      <th>3</th>\n",
       "      <td>885.0</td>\n",
       "      <td>-19.93</td>\n",
       "      <td>564.625</td>\n",
       "      <td>538.003840</td>\n",
       "    </tr>\n",
       "    <tr>\n",
       "      <th>4</th>\n",
       "      <td>659.0</td>\n",
       "      <td>-13.57</td>\n",
       "      <td>413.875</td>\n",
       "      <td>504.916808</td>\n",
       "    </tr>\n",
       "    <tr>\n",
       "      <th>5</th>\n",
       "      <td>647.0</td>\n",
       "      <td>-15.72</td>\n",
       "      <td>392.625</td>\n",
       "      <td>371.448937</td>\n",
       "    </tr>\n",
       "    <tr>\n",
       "      <th>6</th>\n",
       "      <td>457.0</td>\n",
       "      <td>-10.47</td>\n",
       "      <td>317.250</td>\n",
       "      <td>349.742828</td>\n",
       "    </tr>\n",
       "    <tr>\n",
       "      <th>7</th>\n",
       "      <td>406.0</td>\n",
       "      <td>-9.69</td>\n",
       "      <td>199.500</td>\n",
       "      <td>224.786338</td>\n",
       "    </tr>\n",
       "    <tr>\n",
       "      <th>8</th>\n",
       "      <td>351.0</td>\n",
       "      <td>-5.42</td>\n",
       "      <td>167.750</td>\n",
       "      <td>188.640394</td>\n",
       "    </tr>\n",
       "    <tr>\n",
       "      <th>9</th>\n",
       "      <td>335.0</td>\n",
       "      <td>-6.65</td>\n",
       "      <td>187.000</td>\n",
       "      <td>233.435670</td>\n",
       "    </tr>\n",
       "    <tr>\n",
       "      <th>10</th>\n",
       "      <td>285.0</td>\n",
       "      <td>-5.63</td>\n",
       "      <td>140.750</td>\n",
       "      <td>203.431548</td>\n",
       "    </tr>\n",
       "    <tr>\n",
       "      <th>11</th>\n",
       "      <td>283.0</td>\n",
       "      <td>-7.46</td>\n",
       "      <td>261.750</td>\n",
       "      <td>273.141241</td>\n",
       "    </tr>\n",
       "    <tr>\n",
       "      <th>12</th>\n",
       "      <td>260.0</td>\n",
       "      <td>-6.89</td>\n",
       "      <td>184.250</td>\n",
       "      <td>200.164692</td>\n",
       "    </tr>\n",
       "    <tr>\n",
       "      <th>13</th>\n",
       "      <td>173.0</td>\n",
       "      <td>-5.67</td>\n",
       "      <td>165.500</td>\n",
       "      <td>154.813968</td>\n",
       "    </tr>\n",
       "    <tr>\n",
       "      <th>14</th>\n",
       "      <td>131.0</td>\n",
       "      <td>-3.65</td>\n",
       "      <td>92.250</td>\n",
       "      <td>92.977687</td>\n",
       "    </tr>\n",
       "    <tr>\n",
       "      <th>15</th>\n",
       "      <td>111.0</td>\n",
       "      <td>-1.96</td>\n",
       "      <td>57.000</td>\n",
       "      <td>105.483022</td>\n",
       "    </tr>\n",
       "  </tbody>\n",
       "</table>\n",
       "</div>"
      ],
      "text/plain": [
       "     space  score   volume  occluded_asa\n",
       "0   1472.0 -28.62  690.250    619.090723\n",
       "1   1199.0 -18.89  574.125    675.705542\n",
       "2    889.0 -15.69  474.500    516.936319\n",
       "3    885.0 -19.93  564.625    538.003840\n",
       "4    659.0 -13.57  413.875    504.916808\n",
       "5    647.0 -15.72  392.625    371.448937\n",
       "6    457.0 -10.47  317.250    349.742828\n",
       "7    406.0  -9.69  199.500    224.786338\n",
       "8    351.0  -5.42  167.750    188.640394\n",
       "9    335.0  -6.65  187.000    233.435670\n",
       "10   285.0  -5.63  140.750    203.431548\n",
       "11   283.0  -7.46  261.750    273.141241\n",
       "12   260.0  -6.89  184.250    200.164692\n",
       "13   173.0  -5.67  165.500    154.813968\n",
       "14   131.0  -3.65   92.250     92.977687\n",
       "15   111.0  -1.96   57.000    105.483022"
      ]
     },
     "execution_count": 23,
     "metadata": {},
     "output_type": "execute_result"
    }
   ],
   "source": [
    "community_data = pd.DataFrame.from_dict(surface_communities_props,orient='index')\n",
    "community_data"
   ]
  },
  {
   "cell_type": "markdown",
   "metadata": {},
   "source": [
    "### In this section, we present some scripts that can be use to visualize CDK2 communities along with the corresponding pictures. We will be saving the pocket communities in the CDK2_Communities/pocket_communities folder"
   ]
  },
  {
   "cell_type": "code",
   "execution_count": 16,
   "metadata": {},
   "outputs": [],
   "source": [
    "protein_topology = []\n",
    "for resatom in cdk2_prot.top.atoms:\n",
    "    res,atom_index,res_index,atom,element = resatom.residue.name, resatom.index, resatom.residue.index, resatom.name, resatom.element.symbol\n",
    "    protein_topology.append([res,atom_index,res_index,atom,element])\n",
    "protein_topology = np.array(protein_topology)"
   ]
  },
  {
   "cell_type": "code",
   "execution_count": 17,
   "metadata": {},
   "outputs": [],
   "source": [
    "for sx,data in surface_communities.items():\n",
    "    community_pdb = []\n",
    "    lining_atoms = set()\n",
    "    for pock in data['core_pockets'] + data['aux_pockets']:\n",
    "        score = np.sum(temp_score_dict[pock])\n",
    "        centroid = temp_centroids_dict[pock]\n",
    "        lining_atoms.update(list(temp_contact_dict[pock]))\n",
    "        if score <= -2.5:\n",
    "            res = 'BHI'\n",
    "        elif score > -2.5 and score <= -1.5:\n",
    "            res = 'BMI'\n",
    "        elif score > -1.5:\n",
    "            res = 'BLI'\n",
    "        community_pdb.append('ATOM  '+str(pock).rjust(5)+'  '+'BAO'+' '+res+'   '+str(pock).rjust(3)+'    '+str(round(centroid[0],3)).rjust(8)+str(round(centroid[1],3)).rjust(8)+str(round(centroid[2],3)).rjust(8)+str(0.0).rjust(6)+str(0.00).rjust(6)+'           C')\n",
    "    community_pdb.append('TER')\n",
    "    lining_atoms = list(lining_atoms)\n",
    "    lining_atoms.sort()\n",
    "    for top,coord in zip(protein_topology[lining_atoms],prot_coords[lining_atoms]):\n",
    "        res,atom_index,res_index,atom,element = top \n",
    "        community_pdb.append('ATOM  '+str(atom_index).rjust(5)+'  '+atom.ljust(3)+' '+res+'   '+str(res_index).rjust(3)+'    '+str(round(coord[0],3)).rjust(8)+str(round(coord[1],3)).rjust(8)+str(round(coord[2],3)).rjust(8)+str(0.0).rjust(6)+str(0.00).rjust(6)+'           '+element)\n",
    "    with open('CDK2_Communities/pocket_communities/community_'+str(sx)+'.pdb','w') as f:\n",
    "        f.write('\\n'.join(community_pdb))"
   ]
  },
  {
   "cell_type": "code",
   "execution_count": 18,
   "metadata": {},
   "outputs": [],
   "source": [
    "with open('CDK2_Communities/pocket_communities/protein.pdb','w') as f:\n",
    "    for top,coord in zip(protein_topology,prot_coords):    \n",
    "        res,atom_index,res_index,atom,element = top \n",
    "        f.write('ATOM  '+str(atom_index).rjust(5)+'  '+atom.ljust(3)+' '+res+'   '+str(res_index).rjust(3)+'    '+str(round(coord[0],3)).rjust(8)+str(round(coord[1],3)).rjust(8)+str(round(coord[2],3)).rjust(8)+str(0.0).rjust(6)+str(0.00).rjust(6)+'           '+element+'\\n')"
   ]
  },
  {
   "cell_type": "markdown",
   "metadata": {},
   "source": [
    "### Once the files above have been written into the pocket_communities folder, the template chimera file can be open from the Chimera dialog\n",
    "\n",
    "### Lets add a color column to the pandas dataframe to help identify each community"
   ]
  },
  {
   "cell_type": "code",
   "execution_count": 19,
   "metadata": {},
   "outputs": [],
   "source": [
    "with open('CDK2_Communities/colors_table.txt','r') as f:\n",
    "    colors = f.read().splitlines()"
   ]
  },
  {
   "cell_type": "code",
   "execution_count": 20,
   "metadata": {},
   "outputs": [],
   "source": [
    "community_data['Color'] = colors[0:len(community_data)]"
   ]
  },
  {
   "cell_type": "code",
   "execution_count": 21,
   "metadata": {},
   "outputs": [
    {
     "data": {
      "text/html": [
       "<div>\n",
       "<style scoped>\n",
       "    .dataframe tbody tr th:only-of-type {\n",
       "        vertical-align: middle;\n",
       "    }\n",
       "\n",
       "    .dataframe tbody tr th {\n",
       "        vertical-align: top;\n",
       "    }\n",
       "\n",
       "    .dataframe thead th {\n",
       "        text-align: right;\n",
       "    }\n",
       "</style>\n",
       "<table border=\"1\" class=\"dataframe\">\n",
       "  <thead>\n",
       "    <tr style=\"text-align: right;\">\n",
       "      <th></th>\n",
       "      <th>Color</th>\n",
       "      <th>space</th>\n",
       "      <th>score</th>\n",
       "      <th>volume</th>\n",
       "      <th>occluded_asa</th>\n",
       "    </tr>\n",
       "  </thead>\n",
       "  <tbody>\n",
       "    <tr>\n",
       "      <th>0</th>\n",
       "      <td>green</td>\n",
       "      <td>1472.0</td>\n",
       "      <td>-23.69</td>\n",
       "      <td>690.250</td>\n",
       "      <td>619.090723</td>\n",
       "    </tr>\n",
       "    <tr>\n",
       "      <th>1</th>\n",
       "      <td>yellow</td>\n",
       "      <td>1199.0</td>\n",
       "      <td>-18.26</td>\n",
       "      <td>574.125</td>\n",
       "      <td>675.705542</td>\n",
       "    </tr>\n",
       "    <tr>\n",
       "      <th>2</th>\n",
       "      <td>pink</td>\n",
       "      <td>889.0</td>\n",
       "      <td>-14.36</td>\n",
       "      <td>474.500</td>\n",
       "      <td>516.936319</td>\n",
       "    </tr>\n",
       "    <tr>\n",
       "      <th>3</th>\n",
       "      <td>teal</td>\n",
       "      <td>885.0</td>\n",
       "      <td>-18.98</td>\n",
       "      <td>564.625</td>\n",
       "      <td>538.003840</td>\n",
       "    </tr>\n",
       "    <tr>\n",
       "      <th>4</th>\n",
       "      <td>orange</td>\n",
       "      <td>659.0</td>\n",
       "      <td>-10.99</td>\n",
       "      <td>413.875</td>\n",
       "      <td>504.916808</td>\n",
       "    </tr>\n",
       "    <tr>\n",
       "      <th>5</th>\n",
       "      <td>blue</td>\n",
       "      <td>647.0</td>\n",
       "      <td>-14.08</td>\n",
       "      <td>392.625</td>\n",
       "      <td>371.448937</td>\n",
       "    </tr>\n",
       "    <tr>\n",
       "      <th>6</th>\n",
       "      <td>purple</td>\n",
       "      <td>457.0</td>\n",
       "      <td>-10.53</td>\n",
       "      <td>317.250</td>\n",
       "      <td>349.742828</td>\n",
       "    </tr>\n",
       "    <tr>\n",
       "      <th>7</th>\n",
       "      <td>ltblue</td>\n",
       "      <td>406.0</td>\n",
       "      <td>-8.39</td>\n",
       "      <td>199.500</td>\n",
       "      <td>224.786338</td>\n",
       "    </tr>\n",
       "    <tr>\n",
       "      <th>8</th>\n",
       "      <td>peri</td>\n",
       "      <td>351.0</td>\n",
       "      <td>-5.82</td>\n",
       "      <td>167.750</td>\n",
       "      <td>188.640394</td>\n",
       "    </tr>\n",
       "    <tr>\n",
       "      <th>9</th>\n",
       "      <td>peach</td>\n",
       "      <td>335.0</td>\n",
       "      <td>-6.33</td>\n",
       "      <td>187.000</td>\n",
       "      <td>233.435670</td>\n",
       "    </tr>\n",
       "    <tr>\n",
       "      <th>10</th>\n",
       "      <td>tan</td>\n",
       "      <td>285.0</td>\n",
       "      <td>-5.62</td>\n",
       "      <td>140.750</td>\n",
       "      <td>203.431548</td>\n",
       "    </tr>\n",
       "    <tr>\n",
       "      <th>11</th>\n",
       "      <td>mauve</td>\n",
       "      <td>283.0</td>\n",
       "      <td>-7.18</td>\n",
       "      <td>261.750</td>\n",
       "      <td>273.141241</td>\n",
       "    </tr>\n",
       "    <tr>\n",
       "      <th>12</th>\n",
       "      <td>ltgreen</td>\n",
       "      <td>260.0</td>\n",
       "      <td>-5.91</td>\n",
       "      <td>184.250</td>\n",
       "      <td>200.164692</td>\n",
       "    </tr>\n",
       "    <tr>\n",
       "      <th>13</th>\n",
       "      <td>olive</td>\n",
       "      <td>173.0</td>\n",
       "      <td>-4.25</td>\n",
       "      <td>165.500</td>\n",
       "      <td>154.813968</td>\n",
       "    </tr>\n",
       "    <tr>\n",
       "      <th>14</th>\n",
       "      <td>brick</td>\n",
       "      <td>131.0</td>\n",
       "      <td>-3.12</td>\n",
       "      <td>92.250</td>\n",
       "      <td>92.977687</td>\n",
       "    </tr>\n",
       "    <tr>\n",
       "      <th>15</th>\n",
       "      <td>ltpink</td>\n",
       "      <td>111.0</td>\n",
       "      <td>-2.14</td>\n",
       "      <td>57.000</td>\n",
       "      <td>105.483022</td>\n",
       "    </tr>\n",
       "  </tbody>\n",
       "</table>\n",
       "</div>"
      ],
      "text/plain": [
       "      Color   space  score   volume  occluded_asa\n",
       "0     green  1472.0 -23.69  690.250    619.090723\n",
       "1    yellow  1199.0 -18.26  574.125    675.705542\n",
       "2      pink   889.0 -14.36  474.500    516.936319\n",
       "3      teal   885.0 -18.98  564.625    538.003840\n",
       "4    orange   659.0 -10.99  413.875    504.916808\n",
       "5      blue   647.0 -14.08  392.625    371.448937\n",
       "6    purple   457.0 -10.53  317.250    349.742828\n",
       "7    ltblue   406.0  -8.39  199.500    224.786338\n",
       "8      peri   351.0  -5.82  167.750    188.640394\n",
       "9     peach   335.0  -6.33  187.000    233.435670\n",
       "10      tan   285.0  -5.62  140.750    203.431548\n",
       "11    mauve   283.0  -7.18  261.750    273.141241\n",
       "12  ltgreen   260.0  -5.91  184.250    200.164692\n",
       "13    olive   173.0  -4.25  165.500    154.813968\n",
       "14    brick   131.0  -3.12   92.250     92.977687\n",
       "15   ltpink   111.0  -2.14   57.000    105.483022"
      ]
     },
     "execution_count": 21,
     "metadata": {},
     "output_type": "execute_result"
    }
   ],
   "source": [
    "community_data = community_data.reindex(['Color','space','score','volume','occluded_asa'],axis=1)\n",
    "community_data"
   ]
  },
  {
   "cell_type": "markdown",
   "metadata": {},
   "source": [
    "### This is the image what we should expect from opening the AS_viz_template.py and loading the first saved scene. The colors of each community corresponds to the colors column in the dataframe above\n",
    "\n",
    "![title](CDK2_Communities/pocket_communities/CDK2_community_1.png)"
   ]
  },
  {
   "cell_type": "markdown",
   "metadata": {},
   "source": [
    "### This alternate scene saved in the same chimera file. In this image, high-, mid-, and low-scoring pockets from each community is colored green, blue, and rosybrown respectively. This alternate view allows users to immediately visualize the pockets within the context of the communities\n",
    "\n",
    "![title](CDK2_Communities/pocket_communities/CDK2_community_2.png)"
   ]
  },
  {
   "cell_type": "code",
   "execution_count": null,
   "metadata": {},
   "outputs": [],
   "source": []
  },
  {
   "cell_type": "code",
   "execution_count": null,
   "metadata": {},
   "outputs": [],
   "source": []
  }
 ],
 "metadata": {
  "kernelspec": {
   "display_name": "Python 3",
   "language": "python",
   "name": "python3"
  },
  "language_info": {
   "codemirror_mode": {
    "name": "ipython",
    "version": 3
   },
   "file_extension": ".py",
   "mimetype": "text/x-python",
   "name": "python",
   "nbconvert_exporter": "python",
   "pygments_lexer": "ipython3",
   "version": "3.6.7"
  }
 },
 "nbformat": 4,
 "nbformat_minor": 2
}
