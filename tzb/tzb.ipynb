{
 "cells": [
  {
   "metadata": {},
   "cell_type": "markdown",
   "source": "## Load the required packages",
   "id": "11bd03e421f0adbd"
  },
  {
   "metadata": {
    "ExecuteTime": {
     "end_time": "2024-08-04T04:13:09.932533Z",
     "start_time": "2024-08-04T04:13:09.912708Z"
    }
   },
   "cell_type": "code",
   "source": [
    "import alphaspace2 as al\n",
    "import mdtraj\n",
    "import numpy as np\n",
    "from scipy.spatial.distance import cdist\n",
    "from scipy.cluster.hierarchy import fcluster, linkage\n",
    "from alphaspace2.functions import _binCluster, _group\n",
    "from alphaspace2.Cluster import _DPocket\n",
    "\n",
    "import features  ## python module with pseudomolecular features\n",
    "import glob\n",
    "from collections import defaultdict \n",
    "import matplotlib.pyplot as plt"
   ],
   "id": "826b103986e38b1e",
   "outputs": [],
   "execution_count": 20
  },
  {
   "metadata": {},
   "cell_type": "markdown",
   "source": "## Name the protein and ligand",
   "id": "fb24d6c65d486649"
  },
  {
   "metadata": {
    "ExecuteTime": {
     "end_time": "2024-08-04T04:13:10.964280Z",
     "start_time": "2024-08-04T04:13:10.960314Z"
    }
   },
   "cell_type": "code",
   "source": "protease_list = ['PPLCPIPE', 'PPLCPSPE0', 'PPLCPSPE1',  'PPLCPSPE3', 'PPLCPSPE4', 'RRLCPVPE - good', 'RRVCPVPE0', 'RRVCPVPE1']",
   "id": "696ac823ef7e5caf",
   "outputs": [],
   "execution_count": 21
  },
  {
   "metadata": {},
   "cell_type": "markdown",
   "source": "## Calculating pockets for proteases, pka, and estrogen receptor",
   "id": "c186227dd090871a"
  },
  {
   "metadata": {
    "ExecuteTime": {
     "end_time": "2024-08-04T04:13:13.789217Z",
     "start_time": "2024-08-04T04:13:13.571782Z"
    }
   },
   "cell_type": "code",
   "source": [
    "lig= mdtraj.load('./data/rec.pdb')\n",
    "protease_data_ss = {}\n",
    "protease_data_prot = {}\n",
    "for protease in protease_list:\n",
    "    prot = mdtraj.load('./data/'+protease+'.pdb')\n",
    "    protease_data_prot[protease] = prot\n",
    "    ss_prot = al.Snapshot()\n",
    "    ss_prot.run(prot, lig)\n",
    "    protease_data_ss[protease] = ss_prot"
   ],
   "id": "70523eb5e5875572",
   "outputs": [],
   "execution_count": 22
  },
  {
   "metadata": {},
   "cell_type": "markdown",
   "source": [
    "## Calculating ensemble pockets for proteases, pka, and estrogen receptor systems\n",
    "#### Also extracting contact pockets and calculating USR and occluded ASA properties "
   ],
   "id": "be1bd8b6c2b652c2"
  },
  {
   "metadata": {
    "ExecuteTime": {
     "end_time": "2024-08-04T04:13:15.294810Z",
     "start_time": "2024-08-04T04:13:15.284864Z"
    }
   },
   "cell_type": "code",
   "source": [
    "protease_trajectory = al.Trajectory(snapshots=[protease_data_ss[protease] for protease in protease_data_ss.keys()])\n",
    "protease_trajectory.gen_dpockets(clust_distance=4.7)\n",
    "dps = sorted([dp for dp in protease_trajectory.dpockets],key=lambda i:sum(i.scores))\n",
    "\n",
    "protease_contact_pockets = defaultdict(dict)\n",
    "for dpx,dp in enumerate(dps):\n",
    "    pockets = list(dp.pockets)\n",
    "    for px,pdb_id in enumerate(protease_data_ss.keys()):\n",
    "        if pockets[px].isContact:\n",
    "            protease_contact_pockets[pdb_id][dpx] = np.array([b.xyz for b in pockets[px].betas])\n",
    "            \n",
    "protease_props_dict = {}\n",
    "for pdb_id in protease_contact_pockets:\n",
    "    contact_betas = []\n",
    "    prot = protease_data_prot[pdb_id]\n",
    "    for dpx in protease_contact_pockets[pdb_id]:\n",
    "        contact_betas.extend(protease_contact_pockets[pdb_id][dpx])\n",
    "        \n",
    "    contact_betas = np.array(contact_betas)\n",
    "    beta_temp_dict = {}\n",
    "    beta_temp_dict['occluded_asa'] = features._get_pharmacophore_fingerprint(prot,contact_betas)\n",
    "    beta_temp_dict['usr'] = features._Get_USR_alpha_beta(contact_betas)\n",
    "    protease_props_dict[pdb_id] = beta_temp_dict "
   ],
   "id": "df41a6aa4f3b7105",
   "outputs": [],
   "execution_count": 23
  },
  {
   "metadata": {},
   "cell_type": "markdown",
   "source": "## Define an array of USR features for the heatmap comparison",
   "id": "ce677ff0ae40fe72"
  },
  {
   "metadata": {
    "ExecuteTime": {
     "end_time": "2024-08-04T04:13:17.140531Z",
     "start_time": "2024-08-04T04:13:17.137613Z"
    }
   },
   "cell_type": "code",
   "source": [
    "usr_arrays = []\n",
    "for pdb_id in protease_contact_pockets:\n",
    "    usr_arrays.append([s for _,s in protease_props_dict[pdb_id]['usr'].items()])"
   ],
   "id": "d70084f12a47903b",
   "outputs": [],
   "execution_count": 24
  },
  {
   "metadata": {},
   "cell_type": "markdown",
   "source": "### Plotting the heatmap of USR features",
   "id": "550c22d4e7975bfc"
  },
  {
   "metadata": {
    "ExecuteTime": {
     "end_time": "2024-08-04T04:21:34.401179Z",
     "start_time": "2024-08-04T04:13:20.290929Z"
    }
   },
   "cell_type": "code",
   "source": [
    "usr_heatmap = np.ones((30,30))\n",
    "for ix in range(len(usr_arrays)-1):\n",
    "    usr_b1 = usr_arrays[ix]\n",
    "    for jx in range(ix+1,len(usr_arrays)):\n",
    "        usr_b2 = usr_arrays[jx]\n",
    "        sim = 1 - features._soergel(usr_b1,usr_b2)\n",
    "        usr_heatmap[ix,jx] = sim\n",
    "        usr_heatmap[jx,ix] = sim \n",
    "a = 1"
   ],
   "id": "1ab575b8e5c0abc7",
   "outputs": [],
   "execution_count": 26
  },
  {
   "metadata": {},
   "cell_type": "markdown",
   "source": [
    "### Plotting heatmap similarities using the USR features\n",
    "#### We define vmin as 0.7 (from observation of large numbers of structures,\n",
    "#### We observe that a similarity of <0.7 may be defined as dissimilar while anything larger than 0.7 may be similar)"
   ],
   "id": "f32bec1f05da6381"
  },
  {
   "metadata": {
    "ExecuteTime": {
     "end_time": "2024-08-04T04:04:38.608985Z",
     "start_time": "2024-08-04T04:04:38.505119Z"
    }
   },
   "cell_type": "code",
   "source": [
    "plt.imshow(usr_heatmap, cmap='coolwarm', vmin = 0.7, vmax = 1.0)\n",
    "plt.xticks([5,15,25],['Protease','ER_receptor','P_kinase_A'],rotation=0)\n",
    "plt.yticks([5,15,25],['Protease','ER_receptor','P_kinase_A'])\n",
    "plt.axis([0,29,0,29])\n",
    "plt.show()"
   ],
   "id": "17f16483da5ae8bb",
   "outputs": [
    {
     "data": {
      "text/plain": [
       "<Figure size 640x480 with 1 Axes>"
      ],
      "image/png": "[encoded data removed]"
     },
     "metadata": {},
     "output_type": "display_data"
    }
   ],
   "execution_count": 16
  },
  {
   "metadata": {},
   "cell_type": "code",
   "outputs": [],
   "execution_count": null,
   "source": "",
   "id": "4460eb1dd754bc7"
  }
 ],
 "metadata": {
  "kernelspec": {
   "display_name": "Python 3",
   "language": "python",
   "name": "python3"
  },
  "language_info": {
   "codemirror_mode": {
    "name": "ipython",
    "version": 2
   },
   "file_extension": ".py",
   "mimetype": "text/x-python",
   "name": "python",
   "nbconvert_exporter": "python",
   "pygments_lexer": "ipython2",
   "version": "2.7.6"
  }
 },
 "nbformat": 4,
 "nbformat_minor": 5
}
