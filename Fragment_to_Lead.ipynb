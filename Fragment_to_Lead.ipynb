{
 "cells": [
  {
   "cell_type": "code",
   "execution_count": 1,
   "metadata": {},
   "outputs": [],
   "source": [
    "import alphaspace2 as al\n",
    "import mdtraj\n",
    "import numpy as np\n",
    "from scipy.spatial.distance import cdist\n",
    "from scipy.cluster.hierarchy import fcluster, linkage\n",
    "from alphaspace2.functions import _binCluster, _group\n",
    "from alphaspace2.Cluster import _DPocket\n",
    "import scipy\n",
    "import pandas as pd"
   ]
  },
  {
   "cell_type": "code",
   "execution_count": 2,
   "metadata": {},
   "outputs": [],
   "source": [
    "from communities import genCommunityPocket,CoreCluster\n",
    "import features"
   ]
  },
  {
   "cell_type": "markdown",
   "metadata": {},
   "source": [
    "## In this tutorial, we will be community detection for the Fragment to Lead analysis of the HSP90 structures\n",
    "\n",
    "#### We apply the ensemble pocket approach to get the communities associated with fragment and their corresponding lead structures\n",
    "#### In the first part we look at the communities and core pockets of a bound fragment structure for HSP90\n",
    "#### In the second part, we look at the different metrics that show how lead structures have better complementarity to the binding site compared to their fragment counterparts"
   ]
  },
  {
   "cell_type": "markdown",
   "metadata": {},
   "source": [
    "#### First strip hydrogens from pdbqt"
   ]
  },
  {
   "cell_type": "code",
   "execution_count": 3,
   "metadata": {},
   "outputs": [],
   "source": [
    "def strip_h(input_file,output_file):\n",
    "    '''\n",
    "    input_file and output_file need to be in pdb or pdbqt format \n",
    "    '''\n",
    "    inputlines = open(input_file,'r').readlines()\n",
    "    no_h_lines = [l for l in inputlines if not l.split()[-1].startswith('H')] \n",
    "    output = open(output_file,'w')\n",
    "    output.writelines(no_h_lines)\n",
    "    output.close()"
   ]
  },
  {
   "cell_type": "code",
   "execution_count": 4,
   "metadata": {},
   "outputs": [],
   "source": [
    "strip_h(\"Fragment_to_Lead/protein_2wi2.pdbqt\",\"Fragment_to_Lead/protein_2wi2_noH.pdbqt\")\n",
    "strip_h(\"Fragment_to_Lead/protein_2wi7.pdbqt\",\"Fragment_to_Lead/protein_2wi7_noH.pdbqt\")"
   ]
  },
  {
   "cell_type": "code",
   "execution_count": 5,
   "metadata": {},
   "outputs": [],
   "source": [
    "hsp90_frag_prot = mdtraj.load('Fragment_to_Lead/protein_2wi2.pdb')\n",
    "al.annotateVinaAtomTypes(pdbqt=\"Fragment_to_Lead/protein_2wi2_noH.pdbqt\", receptor=hsp90_frag_prot)\n",
    "hsp90_lead_prot = mdtraj.load('Fragment_to_Lead/protein_2wi7.pdb')\n",
    "al.annotateVinaAtomTypes(pdbqt=\"Fragment_to_Lead/protein_2wi7_noH.pdbqt\", receptor=hsp90_lead_prot)"
   ]
  },
  {
   "cell_type": "code",
   "execution_count": 6,
   "metadata": {},
   "outputs": [],
   "source": [
    "hsp90_frag_ss, hsp90_lead_ss = al.Snapshot(), al.Snapshot()\n",
    "hsp90_frag_ss.run(hsp90_frag_prot)\n",
    "hsp90_lead_ss.run(hsp90_lead_prot)\n",
    "frag_lead = al.Trajectory(snapshots=[hsp90_frag_ss,hsp90_lead_ss])\n",
    "frag_lead.gen_dpockets(clust_distance=4.7)"
   ]
  },
  {
   "cell_type": "markdown",
   "metadata": {},
   "source": [
    "### For the next cell, we store pocket properties into dictionaries which will be used for generating the surface communities"
   ]
  },
  {
   "cell_type": "code",
   "execution_count": 7,
   "metadata": {},
   "outputs": [],
   "source": [
    "temp_space_dict = {'Frag':{},'Lead':{}}\n",
    "temp_coords_dict = {'Frag':{},'Lead':{}}\n",
    "temp_contact_dict = {'Frag':{},'Lead':{}}\n",
    "temp_score_dict = {'Frag':{},'Lead':{}}\n",
    "temp_centroids_dict = {'Frag':{},'Lead':{}}\n",
    "for dpx,dp in enumerate(frag_lead.dpockets):\n",
    "    pockets = list(dp.pockets)\n",
    "    if pockets[0].score != 0:\n",
    "        pock = pockets[0]\n",
    "        temp_coords_dict['Frag'][dpx] = [list(b.xyz) for b in pock.betas]\n",
    "        temp_score_dict['Frag'][dpx] = np.array([min(b.scores) for b in  pock.betas])\n",
    "        temp_space_dict['Frag'][dpx] = np.array([b.space for b in  pock.betas])\n",
    "        temp_contact_dict['Frag'][dpx] = list(pock.lining_atoms_idx)\n",
    "        temp_centroids_dict['Frag'][dpx] = pock.centroid\n",
    "    if pockets[1].score != 0:\n",
    "        pock = pockets[1]\n",
    "        temp_coords_dict['Lead'][dpx] = [list(b.xyz) for b in pock.betas]\n",
    "        temp_score_dict['Lead'][dpx] = np.array([min(b.scores) for b in  pock.betas])\n",
    "        temp_space_dict['Lead'][dpx] = np.array([b.space for b in  pock.betas])\n",
    "        temp_contact_dict['Lead'][dpx] = list(pock.lining_atoms_idx)\n",
    "        temp_centroids_dict['Lead'][dpx] = pock.centroid"
   ]
  },
  {
   "cell_type": "code",
   "execution_count": 8,
   "metadata": {},
   "outputs": [],
   "source": [
    "prot_frag_coords = hsp90_frag_prot.xyz[0]*10\n",
    "frag_surface_communities = genCommunityPocket(prot_frag_coords, temp_centroids_dict['Frag'], temp_space_dict['Frag'], \\\n",
    "                                            temp_contact_dict['Frag'], temp_score_dict['Frag'], \\\n",
    "                                            corecut = 100, auxcut = 30, tight_option = True, tight_cutoff_core = 12.5, tight_cutoff_aux = 6.5)"
   ]
  },
  {
   "cell_type": "markdown",
   "metadata": {},
   "source": [
    "### Loading ligands for detecting binding site pockets"
   ]
  },
  {
   "cell_type": "code",
   "execution_count": 9,
   "metadata": {},
   "outputs": [],
   "source": [
    "ligand_frag = mdtraj.load('Fragment_to_Lead/ligand_frag_2wi2.pdb')\n",
    "ligand_lead = mdtraj.load('Fragment_to_Lead/ligand_lead_2wi7.pdb')"
   ]
  },
  {
   "cell_type": "markdown",
   "metadata": {},
   "source": [
    "### Here we get the list of communities that overlap with the fragment ligand \n",
    "### In this case, there is only one overlapping community which is the top-ranking community by space (which has index 0) "
   ]
  },
  {
   "cell_type": "code",
   "execution_count": 10,
   "metadata": {},
   "outputs": [],
   "source": [
    "binding_communities = []\n",
    "for cx,community in frag_surface_communities.items():\n",
    "    temp_binding_community_coords = []\n",
    "    for pock in community['core_pockets'] + community['aux_pockets']:\n",
    "        temp_binding_community_coords.extend(temp_coords_dict['Frag'][pock])\n",
    "    dist=scipy.spatial.distance.cdist(temp_binding_community_coords,ligand_frag.xyz[0]*10)\n",
    "    bool_arr = np.any(dist<1.8,axis = 1)    \n",
    "    if np.any(bool_arr):\n",
    "        binding_communities.append(cx)"
   ]
  },
  {
   "cell_type": "markdown",
   "metadata": {},
   "source": [
    "### Here we get local ranking and properties of high-scoring pockets in the binding site community and save them into a dataframe"
   ]
  },
  {
   "cell_type": "code",
   "execution_count": 11,
   "metadata": {},
   "outputs": [],
   "source": [
    "pocket_data = pd.DataFrame(columns=('pocket_ix', 'score', '%optimized','space','%space_occupied'))"
   ]
  },
  {
   "cell_type": "code",
   "execution_count": 13,
   "metadata": {},
   "outputs": [],
   "source": [
    "for cx in binding_communities:\n",
    "    community = frag_surface_communities[cx]\n",
    "    for pock in community['core_pockets'] + community['aux_pockets']:\n",
    "        pocket_coord = np.array(temp_coords_dict['Frag'][pock])\n",
    "        pocket_space = np.array(temp_space_dict['Frag'][pock])\n",
    "        pocket_score = np.array(temp_score_dict['Frag'][pock])\n",
    "        dist=scipy.spatial.distance.cdist(pocket_coord,ligand_frag.xyz[0]*10)\n",
    "        bool_arr = np.any(dist<1.8,axis = 1)    \n",
    "        optimized = 100*np.sum(pocket_score[bool_arr])/np.sum(pocket_score)\n",
    "        space_occupied = 100*np.sum(pocket_space[bool_arr])/np.sum(pocket_space)\n",
    "        temp_row = [pock,np.sum(pocket_score),optimized,np.sum(pocket_space),space_occupied]\n",
    "        pocket_data = pocket_data.append(pd.Series(temp_row,index=pocket_data.columns),ignore_index=True)"
   ]
  },
  {
   "cell_type": "code",
   "execution_count": 14,
   "metadata": {},
   "outputs": [
    {
     "data": {
      "text/html": [
       "<div>\n",
       "<style scoped>\n",
       "    .dataframe tbody tr th:only-of-type {\n",
       "        vertical-align: middle;\n",
       "    }\n",
       "\n",
       "    .dataframe tbody tr th {\n",
       "        vertical-align: top;\n",
       "    }\n",
       "\n",
       "    .dataframe thead th {\n",
       "        text-align: right;\n",
       "    }\n",
       "</style>\n",
       "<table border=\"1\" class=\"dataframe\">\n",
       "  <thead>\n",
       "    <tr style=\"text-align: right;\">\n",
       "      <th></th>\n",
       "      <th>pocket_ix</th>\n",
       "      <th>score</th>\n",
       "      <th>%optimized</th>\n",
       "      <th>space</th>\n",
       "      <th>%space_occupied</th>\n",
       "    </tr>\n",
       "  </thead>\n",
       "  <tbody>\n",
       "    <tr>\n",
       "      <th>0</th>\n",
       "      <td>6.0</td>\n",
       "      <td>-2.325968</td>\n",
       "      <td>-0.000000</td>\n",
       "      <td>205.921570</td>\n",
       "      <td>0.000000</td>\n",
       "    </tr>\n",
       "    <tr>\n",
       "      <th>1</th>\n",
       "      <td>141.0</td>\n",
       "      <td>-3.659364</td>\n",
       "      <td>62.386755</td>\n",
       "      <td>203.603363</td>\n",
       "      <td>70.840921</td>\n",
       "    </tr>\n",
       "    <tr>\n",
       "      <th>2</th>\n",
       "      <td>142.0</td>\n",
       "      <td>-4.234781</td>\n",
       "      <td>29.320790</td>\n",
       "      <td>145.997589</td>\n",
       "      <td>34.714360</td>\n",
       "    </tr>\n",
       "    <tr>\n",
       "      <th>3</th>\n",
       "      <td>143.0</td>\n",
       "      <td>-5.977964</td>\n",
       "      <td>68.868089</td>\n",
       "      <td>446.135773</td>\n",
       "      <td>50.351348</td>\n",
       "    </tr>\n",
       "    <tr>\n",
       "      <th>4</th>\n",
       "      <td>144.0</td>\n",
       "      <td>-1.198709</td>\n",
       "      <td>-0.000000</td>\n",
       "      <td>36.762062</td>\n",
       "      <td>0.000000</td>\n",
       "    </tr>\n",
       "    <tr>\n",
       "      <th>5</th>\n",
       "      <td>146.0</td>\n",
       "      <td>-2.382712</td>\n",
       "      <td>-0.000000</td>\n",
       "      <td>99.947273</td>\n",
       "      <td>0.000000</td>\n",
       "    </tr>\n",
       "    <tr>\n",
       "      <th>6</th>\n",
       "      <td>6.0</td>\n",
       "      <td>-2.325968</td>\n",
       "      <td>-0.000000</td>\n",
       "      <td>205.921570</td>\n",
       "      <td>0.000000</td>\n",
       "    </tr>\n",
       "    <tr>\n",
       "      <th>7</th>\n",
       "      <td>141.0</td>\n",
       "      <td>-3.659364</td>\n",
       "      <td>62.386755</td>\n",
       "      <td>203.603363</td>\n",
       "      <td>70.840921</td>\n",
       "    </tr>\n",
       "    <tr>\n",
       "      <th>8</th>\n",
       "      <td>142.0</td>\n",
       "      <td>-4.234781</td>\n",
       "      <td>29.320790</td>\n",
       "      <td>145.997589</td>\n",
       "      <td>34.714360</td>\n",
       "    </tr>\n",
       "    <tr>\n",
       "      <th>9</th>\n",
       "      <td>143.0</td>\n",
       "      <td>-5.977964</td>\n",
       "      <td>68.868089</td>\n",
       "      <td>446.135773</td>\n",
       "      <td>50.351348</td>\n",
       "    </tr>\n",
       "    <tr>\n",
       "      <th>10</th>\n",
       "      <td>144.0</td>\n",
       "      <td>-1.198709</td>\n",
       "      <td>-0.000000</td>\n",
       "      <td>36.762062</td>\n",
       "      <td>0.000000</td>\n",
       "    </tr>\n",
       "    <tr>\n",
       "      <th>11</th>\n",
       "      <td>146.0</td>\n",
       "      <td>-2.382712</td>\n",
       "      <td>-0.000000</td>\n",
       "      <td>99.947273</td>\n",
       "      <td>0.000000</td>\n",
       "    </tr>\n",
       "  </tbody>\n",
       "</table>\n",
       "</div>"
      ],
      "text/plain": [
       "    pocket_ix     score  %optimized       space  %space_occupied\n",
       "0         6.0 -2.325968   -0.000000  205.921570         0.000000\n",
       "1       141.0 -3.659364   62.386755  203.603363        70.840921\n",
       "2       142.0 -4.234781   29.320790  145.997589        34.714360\n",
       "3       143.0 -5.977964   68.868089  446.135773        50.351348\n",
       "4       144.0 -1.198709   -0.000000   36.762062         0.000000\n",
       "5       146.0 -2.382712   -0.000000   99.947273         0.000000\n",
       "6         6.0 -2.325968   -0.000000  205.921570         0.000000\n",
       "7       141.0 -3.659364   62.386755  203.603363        70.840921\n",
       "8       142.0 -4.234781   29.320790  145.997589        34.714360\n",
       "9       143.0 -5.977964   68.868089  446.135773        50.351348\n",
       "10      144.0 -1.198709   -0.000000   36.762062         0.000000\n",
       "11      146.0 -2.382712   -0.000000   99.947273         0.000000"
      ]
     },
     "execution_count": 14,
     "metadata": {},
     "output_type": "execute_result"
    }
   ],
   "source": [
    "pocket_data"
   ]
  },
  {
   "cell_type": "markdown",
   "metadata": {},
   "source": [
    "#### We see that pocket 143, 142, and 141 are the top 3 ranking pockets and are also the most optimized/occupied\n",
    "#### Pocket 6 and 146 are not occupied by the fragment and would be a good starting point for ligand optimization"
   ]
  },
  {
   "cell_type": "markdown",
   "metadata": {},
   "source": [
    "### In this section we take a look at pocket/ligand metrics to evaluate the complementarity between the pocket and ligands in the lead structure"
   ]
  },
  {
   "cell_type": "code",
   "execution_count": 14,
   "metadata": {},
   "outputs": [],
   "source": [
    "prot_lead_coords = hsp90_lead_prot.xyz[0]*10"
   ]
  },
  {
   "cell_type": "code",
   "execution_count": 15,
   "metadata": {},
   "outputs": [],
   "source": [
    "lead_surface_communities = genCommunityPocket(prot_lead_coords, temp_centroids_dict['Lead'], temp_space_dict['Lead'], \\\n",
    "                                            temp_contact_dict['Lead'], temp_score_dict['Lead'], \\\n",
    "                                            corecut = 100, auxcut = 30, tight_option = True, tight_cutoff_core = 12.5, tight_cutoff_aux = 6.5)"
   ]
  },
  {
   "cell_type": "code",
   "execution_count": 16,
   "metadata": {},
   "outputs": [],
   "source": [
    "binding_communities = []\n",
    "for cx,community in lead_surface_communities.items():\n",
    "    temp_binding_community_coords = []\n",
    "    for pock in community['core_pockets'] + community['aux_pockets']:\n",
    "        temp_binding_community_coords.extend(temp_coords_dict['Lead'][pock])\n",
    "    dist=scipy.spatial.distance.cdist(temp_binding_community_coords,ligand_lead.xyz[0]*10)\n",
    "    bool_arr = np.any(dist<1.8,axis = 1)    \n",
    "    if np.any(bool_arr):\n",
    "        binding_communities.append(cx)"
   ]
  },
  {
   "cell_type": "markdown",
   "metadata": {},
   "source": [
    "### Like in the fragment structure, the highest ranking community is also the only detected binding site for the lead molecule is community index 0"
   ]
  },
  {
   "cell_type": "code",
   "execution_count": 35,
   "metadata": {},
   "outputs": [
    {
     "data": {
      "text/plain": [
       "[0]"
      ]
     },
     "execution_count": 35,
     "metadata": {},
     "output_type": "execute_result"
    }
   ],
   "source": [
    "binding_communities"
   ]
  },
  {
   "cell_type": "code",
   "execution_count": 17,
   "metadata": {},
   "outputs": [],
   "source": [
    "pock_set = set()\n",
    "for cx in binding_communities:\n",
    "    for pock in lead_surface_communities[cx]['core_pockets'] + lead_surface_communities[cx]['aux_pockets']:\n",
    "        pock_set.add(pock)"
   ]
  },
  {
   "cell_type": "markdown",
   "metadata": {},
   "source": [
    "### We save the pocket coordinates, score, and space into lists which we will use to measure the complimentarity of the lead vs the fragment ligand using %Optimized, % space occupied, and % volume overlap scores"
   ]
  },
  {
   "cell_type": "code",
   "execution_count": 19,
   "metadata": {},
   "outputs": [],
   "source": [
    "lead_binding_community_coords = []\n",
    "lead_binding_community_space = []\n",
    "lead_binding_community_score = []\n",
    "for pock in pock_set:\n",
    "    lead_binding_community_coords.extend(temp_coords_dict['Lead'][pock])\n",
    "    lead_binding_community_space.extend(temp_space_dict['Lead'][pock])\n",
    "    lead_binding_community_score.extend(temp_score_dict['Lead'][pock])\n",
    "lead_binding_community_coords = np.array(lead_binding_community_coords)\n",
    "lead_binding_community_space = np.array(lead_binding_community_space)\n",
    "lead_binding_community_score = np.array(lead_binding_community_score)"
   ]
  },
  {
   "cell_type": "code",
   "execution_count": 20,
   "metadata": {},
   "outputs": [],
   "source": [
    "bool_arr = np.any(dist<=1.6,axis = 1)"
   ]
  },
  {
   "cell_type": "markdown",
   "metadata": {},
   "source": [
    "### The Lead structure improves the various metrics in the Lead binding site community compared to the Fragment Structure by >2X. Maximizing these metrics by more elaborated lead structures can be used to guide the design of more potent inhibitors"
   ]
  },
  {
   "cell_type": "code",
   "execution_count": 21,
   "metadata": {},
   "outputs": [
    {
     "name": "stdout",
     "output_type": "stream",
     "text": [
      "Frag %Optimized : 13.74, %Space Occupied : 16.19 , %Overlap Volume : 10.55\n",
      "Lead %Optimized : 36.88, %Space Occupied : 49.19 , %Overlap Volume : 27.28\n"
     ]
    }
   ],
   "source": [
    "for lx,lig_coords in [('Frag',ligand_frag.xyz[0]*10),('Lead',ligand_lead.xyz[0]*10)]:\n",
    "    dist = scipy.spatial.distance.cdist(lead_binding_community_coords,lig_coords)\n",
    "    bool_arr = np.any(dist<=1.6,axis = 1)\n",
    "    optimized = round(100*np.sum(lead_binding_community_score[bool_arr])/np.sum(lead_binding_community_score),2)\n",
    "    space_occpupied = round(100*np.sum(lead_binding_community_space[bool_arr])/np.sum(lead_binding_community_space),2)\n",
    "    overlap_volume = features._get_overlap_volume(lead_binding_community_coords,lig_coords)\n",
    "    total_volume = features._get_grid_volume(lead_binding_community_coords)\n",
    "    overlap = round(100*overlap_volume/total_volume,2)\n",
    "    print(lx, '%Optimized : ' +str(optimized)+ ', %Space Occupied : '+str(space_occpupied) \\\n",
    "         ,', %Overlap Volume : ' + str(overlap))"
   ]
  },
  {
   "cell_type": "markdown",
   "metadata": {},
   "source": [
    "### In this section, we present some scripts that can be use to visualize the Lead communities along with the corresponding pictures. Here we write different attribute files to help visualize pocket communities. All files will be written in the Fragment_to_Lead/pocket_communities file\n",
    "\n",
    "#### Attribute files allows us to visualize different features as attributes pirojected to the beta clusters or protein surface in Chimera"
   ]
  },
  {
   "cell_type": "code",
   "execution_count": 22,
   "metadata": {},
   "outputs": [],
   "source": [
    "attribute_file = [\"attribute: beta_score\",\"recipient: atoms\"]\n",
    "ixx = 0\n",
    "for pock in temp_score_dict['Lead']:\n",
    "    for fx,beta_score in enumerate(temp_score_dict['Lead'][pock]):\n",
    "        beta_score = round(beta_score,2)\n",
    "        attribute_file.append('\\t' + ':'+str(pock)+' & :BAC & @/serialNumber='+str(fx)+'\\t'+str(beta_score))\n",
    "with open('Fragment_to_Lead/pocket_communities/beta_score_attributes.txt','w') as f:\n",
    "    f.write('\\n'.join(attribute_file))"
   ]
  },
  {
   "cell_type": "code",
   "execution_count": 23,
   "metadata": {},
   "outputs": [],
   "source": [
    "pocket_score_attribute_file = [\"attribute: pocket_score\",\"recipient: atoms\"]\n",
    "pocket_optimize_attribute_file = [\"attribute: optimize\",\"recipient: atoms\"]\n",
    "for pock in temp_score_dict['Lead']:\n",
    "    coords = temp_coords_dict['Lead'][pock]\n",
    "    score = temp_score_dict['Lead'][pock]\n",
    "    dist = scipy.spatial.distance.cdist(coords,ligand_lead.xyz[0]*10)\n",
    "    bool_arr = np.any(dist<=1.6,axis = 1)\n",
    "    optimized = round(100*np.sum(score[bool_arr])/np.sum(score),2)\n",
    "    pocket_score = round(np.sum(score),2)\n",
    "    pocket_score_attribute_file.append('\\t' + ':'+str(pock)+' & @BAO \\t'+str(pocket_score))\n",
    "    pocket_optimize_attribute_file.append('\\t' + ':'+str(pock)+' & @BAO \\t'+str(optimized))\n",
    "with open('Fragment_to_Lead/pocket_communities/pocket_score_attributes.txt','w') as f:\n",
    "    f.write('\\n'.join(pocket_score_attribute_file))\n",
    "with open('Fragment_to_Lead/pocket_communities/pocket_optimize_attributes.txt','w') as f:\n",
    "    f.write('\\n'.join(pocket_optimize_attribute_file))"
   ]
  },
  {
   "cell_type": "code",
   "execution_count": 24,
   "metadata": {},
   "outputs": [],
   "source": [
    "for sx,data in lead_surface_communities.items():\n",
    "    community_pdb = []\n",
    "    lining_atoms = set()\n",
    "    for pock in data['core_pockets'] + data['aux_pockets']:\n",
    "        score = np.sum(temp_score_dict['Lead'][pock])\n",
    "        centroid = temp_centroids_dict['Lead'][pock]\n",
    "        lining_atoms.update(list(temp_contact_dict['Lead'][pock]))\n",
    "        coords = temp_coords_dict['Lead'][pock]\n",
    "        dist=scipy.spatial.distance.cdist(coords,ligand_lead.xyz[0]*10)\n",
    "        bool_arr = np.any(dist<1.8,axis = 1)    \n",
    "        opt = np.sum(temp_score_dict['Lead'][pock][bool_arr])/score\n",
    "        if score <= -2.5:\n",
    "            res = 'BHI'\n",
    "        elif score > -2.5 and score <= -1.5:\n",
    "            res = 'BMI'\n",
    "        elif score > -1.5:\n",
    "            res = 'BLI'\n",
    "        community_pdb.append('ATOM  '+str(1).rjust(5)+'  '+'BAO'+' '+res+'   '+str(pock).rjust(3)+'    '+str(round(centroid[0],3)).rjust(8)+str(round(centroid[1],3)).rjust(8)+str(round(centroid[2],3)).rjust(8)+str(0.0).rjust(6)+str(opt).rjust(6)+'           C')\n",
    "        for fx,ff in enumerate(zip(bool_arr,coords)):\n",
    "            bx,coord = ff\n",
    "            beta_score = round(temp_score_dict['Lead'][pock][fx],2)\n",
    "            if bx:\n",
    "                community_pdb.append('ATOM  '+str(fx).rjust(5)+'  '+'CON'+' '+'BAC'+'   '+str(pock).rjust(3)+'    '+str(round(coord[0],3)).rjust(8)+str(round(coord[1],3)).rjust(8)+str(round(coord[2],3)).rjust(8)+str(beta_score).rjust(6)+str(0.00).rjust(6)+'           C')\n",
    "            else:\n",
    "                community_pdb.append('ATOM  '+str(fx).rjust(5)+'  '+'NON'+' '+'BAC'+'   '+str(pock).rjust(3)+'    '+str(round(coord[0],3)).rjust(8)+str(round(coord[1],3)).rjust(8)+str(round(coord[2],3)).rjust(8)+str(beta_score).rjust(6)+str(0.00).rjust(6)+'           C')\n",
    "        community_pdb.append('TER')\n",
    "    with open('Fragment_to_Lead/pocket_communities/community_'+str(sx)+'.pdb','w') as f:\n",
    "        f.write('\\n'.join(community_pdb))\n",
    "            "
   ]
  },
  {
   "cell_type": "code",
   "execution_count": 25,
   "metadata": {},
   "outputs": [],
   "source": [
    "protein_topology = []\n",
    "for resatom in hsp90_lead_prot.top.atoms:\n",
    "    res,atom_index,res_index,atom,element = resatom.residue.name, resatom.index, resatom.residue.index, resatom.name, resatom.element.symbol\n",
    "    protein_topology.append([res,atom_index,res_index,atom,element])\n",
    "protein_topology = np.array(protein_topology)"
   ]
  },
  {
   "cell_type": "code",
   "execution_count": 26,
   "metadata": {},
   "outputs": [],
   "source": [
    "with open('Fragment_to_Lead/pocket_communities/protein.pdb','w') as f:\n",
    "    for top,coord in zip(protein_topology,prot_lead_coords):    \n",
    "        res,atom_index,res_index,atom,element = top \n",
    "        f.write('ATOM  '+str(atom_index).rjust(5)+'  '+atom.ljust(3)+' '+res+'   '+str(res_index).rjust(3)+'    '+str(round(coord[0],3)).rjust(8)+str(round(coord[1],3)).rjust(8)+str(round(coord[2],3)).rjust(8)+str(0.0).rjust(6)+str(0.00).rjust(6)+'           '+element+'\\n')\n",
    "        "
   ]
  },
  {
   "cell_type": "code",
   "execution_count": 27,
   "metadata": {},
   "outputs": [],
   "source": [
    "ligand_topology = []\n",
    "for resatom in ligand_lead.top.atoms:\n",
    "    res,atom_index,res_index,atom,element = resatom.residue.name, resatom.index, resatom.residue.index, resatom.name, resatom.element.symbol\n",
    "    ligand_topology.append([res,atom_index,res_index,atom,element])\n",
    "ligand_topology = np.array(ligand_topology)\n",
    "\n",
    "with open('Fragment_to_Lead/pocket_communities/ligand.pdb','w') as f:\n",
    "    for top,coord in zip(ligand_topology,ligand_lead.xyz[0]*10):    \n",
    "        res,atom_index,res_index,atom,element = top \n",
    "        f.write('HETATM'+str(atom_index).rjust(5)+'  '+atom.ljust(3)+' '+res+'   '+str(res_index).rjust(3)+'    '+str(round(coord[0],3)).rjust(8)+str(round(coord[1],3)).rjust(8)+str(round(coord[2],3)).rjust(8)+str(0.0).rjust(6)+str(0.00).rjust(6)+'           '+element+'\\n')\n",
    "        "
   ]
  },
  {
   "cell_type": "markdown",
   "metadata": {},
   "source": [
    "### This is the image what we should expect from opening the AS_viz_template.py and loading the first saved scene. High-, mid-, and low-scoring pockets from the binding site community is colored green, blue, and rosybrown respectively. This view allows users to immediately visualize high and mid-scoring pockets that can be exploited for fragment elaboration\n",
    "\n",
    "![title](Fragment_to_Lead/pocket_communities/Fragment_to_lead_community_1.png)"
   ]
  },
  {
   "cell_type": "markdown",
   "metadata": {},
   "source": [
    "### This is the image what we should expect from opening the AS_viz_template.py and loading the second saved scene. Pockets centroids are colored by their %optimized. Highly optimized pockets are colored green while completly unoccupied pockets are colored yellow. Pockets with intermediate %optimized scores are colored in between. This view allows users to identify contact pockets near the ligand which can be sites of fragment elaboration or partially occupied pockets that should be the focus for ligand design\n",
    "\n",
    "![title](Fragment_to_Lead/pocket_communities/Fragment_to_lead_community_2.png)"
   ]
  },
  {
   "cell_type": "markdown",
   "metadata": {},
   "source": [
    "### This is the image what we should expect from opening the AS_viz_template.py and loading the third saved scene. In this view, beta atoms are colored based on the vina score corresponding to their most favorable probe atoms. The most favorable beta atoms are colored green while beta low-scoring beta atoms are colored orange. This view allows a more fine-grained view of favorable sites on the surface\n",
    "\n",
    "![title](Fragment_to_Lead/pocket_communities/Fragment_to_lead_community_3.png)"
   ]
  },
  {
   "cell_type": "code",
   "execution_count": null,
   "metadata": {},
   "outputs": [],
   "source": []
  }
 ],
 "metadata": {
  "kernelspec": {
   "display_name": "Python 3",
   "language": "python",
   "name": "python3"
  },
  "language_info": {
   "codemirror_mode": {
    "name": "ipython",
    "version": 3
   },
   "file_extension": ".py",
   "mimetype": "text/x-python",
   "name": "python",
   "nbconvert_exporter": "python",
   "pygments_lexer": "ipython3",
   "version": "3.6.7"
  }
 },
 "nbformat": 4,
 "nbformat_minor": 2
}
