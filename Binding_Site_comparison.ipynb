{
 "cells": [
  {
   "cell_type": "code",
   "metadata": {
    "ExecuteTime": {
     "end_time": "2024-08-04T04:11:15.943892Z",
     "start_time": "2024-08-04T04:11:15.939022Z"
    }
   },
   "source": [
    "import alphaspace2 as al\n",
    "import mdtraj\n",
    "import numpy as np\n",
    "from scipy.spatial.distance import cdist\n",
    "from scipy.cluster.hierarchy import fcluster, linkage\n",
    "from alphaspace2.functions import _binCluster, _group\n",
    "from alphaspace2.Cluster import _DPocket"
   ],
   "outputs": [],
   "execution_count": 30
  },
  {
   "cell_type": "markdown",
   "metadata": {},
   "source": [
    "### We load the methods for calculating the molecular features "
   ]
  },
  {
   "cell_type": "code",
   "metadata": {
    "ExecuteTime": {
     "end_time": "2024-08-04T04:11:16.237309Z",
     "start_time": "2024-08-04T04:11:16.232718Z"
    }
   },
   "source": [
    "import features  ## python module with pseudomolecular features\n",
    "import glob\n",
    "from collections import defaultdict \n",
    "import matplotlib.pyplot as plt"
   ],
   "outputs": [],
   "execution_count": 31
  },
  {
   "cell_type": "markdown",
   "metadata": {},
   "source": [
    "### For this tutorial, I apply ensemble pockets and pocket features to compare the binding site of three different disease relevant systens; HIV-Proteases, Protein-Kinase A, and Estrogen Receptor\n",
    "#### A representative ligand composed of all the ligands from the ensemble of structures was used to define the contact pockets to be compared"
   ]
  },
  {
   "cell_type": "code",
   "metadata": {
    "ExecuteTime": {
     "end_time": "2024-08-04T04:11:16.551627Z",
     "start_time": "2024-08-04T04:11:16.548099Z"
    }
   },
   "source": [
    "protease_list = ['1c70','1hvi','1hvj','1izh','1pro','1siv','2i0a','2psv','2q5k','3lzu']"
   ],
   "outputs": [],
   "execution_count": 32
  },
  {
   "cell_type": "code",
   "metadata": {
    "ExecuteTime": {
     "end_time": "2024-08-04T04:11:16.717474Z",
     "start_time": "2024-08-04T04:11:16.714504Z"
    }
   },
   "source": [
    "pka_list = ['1sve','1xh5','2c1a','2erz','2f7e','2f7x','2gfc','2jds','2oh0','2vo7']"
   ],
   "outputs": [],
   "execution_count": 33
  },
  {
   "cell_type": "code",
   "metadata": {
    "ExecuteTime": {
     "end_time": "2024-08-04T04:11:16.890564Z",
     "start_time": "2024-08-04T04:11:16.887559Z"
    }
   },
   "source": [
    "er_list = ['2b1z','2p15','2pog','2q70','2yja','3uud','4mg8','4pps','4pxm','4tv1']"
   ],
   "outputs": [],
   "execution_count": 34
  },
  {
   "cell_type": "markdown",
   "metadata": {},
   "source": [
    "### Calculating pockets for proteases, pka, and estrogen receptor \n"
   ]
  },
  {
   "cell_type": "code",
   "metadata": {
    "ExecuteTime": {
     "end_time": "2024-08-04T04:11:19.140420Z",
     "start_time": "2024-08-04T04:11:17.236627Z"
    }
   },
   "source": [
    "lig = mdtraj.load('Binding_Site_comparison/protease/representative_ligand.pdb')\n",
    "protease_data_ss = {}\n",
    "protease_data_prot = {}\n",
    "for pdb_id in protease_list:\n",
    "    prot = mdtraj.load('Binding_Site_comparison/protease/protein_' + pdb_id + '.pdb')\n",
    "    protease_data_prot[pdb_id] = prot\n",
    "    ss_prot = al.Snapshot()\n",
    "    ss_prot.run(prot, lig)\n",
    "    protease_data_ss[pdb_id] = ss_prot\n",
    "    "
   ],
   "outputs": [],
   "execution_count": 35
  },
  {
   "cell_type": "code",
   "metadata": {
    "ExecuteTime": {
     "end_time": "2024-08-04T04:11:22.639602Z",
     "start_time": "2024-08-04T04:11:19.141378Z"
    }
   },
   "source": [
    "lig = mdtraj.load('Binding_Site_comparison/pka/representative_ligand.pdb')\n",
    "pka_data_ss = {}\n",
    "pka_data_prot = {}\n",
    "for pdb_id in pka_list:\n",
    "    prot = mdtraj.load('Binding_Site_comparison/pka/protein_' + pdb_id + '.pdb')\n",
    "    pka_data_prot[pdb_id] = prot\n",
    "    ss_prot = al.Snapshot()\n",
    "    ss_prot.run(prot, lig)\n",
    "    pka_data_ss[pdb_id] = ss_prot"
   ],
   "outputs": [],
   "execution_count": 36
  },
  {
   "cell_type": "code",
   "metadata": {
    "ExecuteTime": {
     "end_time": "2024-08-04T04:11:24.834221Z",
     "start_time": "2024-08-04T04:11:22.640436Z"
    }
   },
   "source": [
    "lig = mdtraj.load('Binding_Site_comparison/estrogen_receptor/representative_ligand.pdb')\n",
    "er_data_ss = {}\n",
    "er_data_prot = {}\n",
    "for pdb_id in er_list:\n",
    "    prot = mdtraj.load('Binding_Site_comparison/estrogen_receptor/protein_' + pdb_id + '.pdb')\n",
    "    er_data_prot[pdb_id] = prot\n",
    "    ss_prot = al.Snapshot()\n",
    "    ss_prot.run(prot, lig)\n",
    "    er_data_ss[pdb_id] = ss_prot"
   ],
   "outputs": [],
   "execution_count": 37
  },
  {
   "cell_type": "markdown",
   "metadata": {},
   "source": [
    "### Calculating ensemble pockets for proteases, pka, and estrogen receptor systems\n",
    "#### Also extracting contact pockets and calculating USR and occluded ASA properties "
   ]
  },
  {
   "cell_type": "code",
   "metadata": {
    "ExecuteTime": {
     "end_time": "2024-08-04T04:11:26.355755Z",
     "start_time": "2024-08-04T04:11:24.835350Z"
    }
   },
   "source": [
    "protease_trajectory = al.Trajectory(snapshots=[protease_data_ss[pdb_id] for pdb_id in protease_data_ss.keys()])\n",
    "protease_trajectory.gen_dpockets(clust_distance=4.7)\n",
    "dps = sorted([dp for dp in protease_trajectory.dpockets],key=lambda i:sum(i.scores))\n",
    "\n",
    "protease_contact_pockets = defaultdict(dict)\n",
    "for dpx,dp in enumerate(dps):\n",
    "    pockets = list(dp.pockets)\n",
    "    for px,pdb_id in enumerate(protease_data_ss.keys()):\n",
    "        if pockets[px].isContact:\n",
    "            protease_contact_pockets[pdb_id][dpx] = np.array([b.xyz for b in pockets[px].betas])\n",
    "            \n",
    "protease_props_dict = {}\n",
    "for pdb_id in protease_contact_pockets:\n",
    "    contact_betas = []\n",
    "    prot = protease_data_prot[pdb_id]\n",
    "    for dpx in protease_contact_pockets[pdb_id]:\n",
    "        contact_betas.extend(protease_contact_pockets[pdb_id][dpx])\n",
    "    \n",
    "    contact_betas = np.array(contact_betas)\n",
    "    beta_temp_dict = {}\n",
    "    beta_temp_dict['occluded_asa'] = features._get_pharmacophore_fingerprint(prot,contact_betas)\n",
    "    beta_temp_dict['usr'] = features._Get_USR_alpha_beta(contact_betas)\n",
    "    protease_props_dict[pdb_id] = beta_temp_dict "
   ],
   "outputs": [],
   "execution_count": 38
  },
  {
   "cell_type": "code",
   "metadata": {
    "ExecuteTime": {
     "end_time": "2024-08-04T04:11:30.252398Z",
     "start_time": "2024-08-04T04:11:28.287833Z"
    }
   },
   "source": [
    "er_trajectory = al.Trajectory(snapshots=[er_data_ss[pdb_id] for pdb_id in er_data_ss.keys()])\n",
    "er_trajectory.gen_dpockets(clust_distance=4.7)\n",
    "dps = sorted([dp for dp in er_trajectory.dpockets],key=lambda i:sum(i.scores))\n",
    "\n",
    "er_contact_pockets = defaultdict(dict)\n",
    "for dpx,dp in enumerate(dps):\n",
    "    pockets = list(dp.pockets)\n",
    "    for px,pdb_id in enumerate(er_data_ss.keys()):\n",
    "        if pockets[px].isContact:\n",
    "            er_contact_pockets[pdb_id][dpx] = np.array([b.xyz for b in pockets[px].betas])\n",
    "\n",
    "er_props_dict = {}\n",
    "for pdb_id in er_contact_pockets:\n",
    "    contact_betas = []\n",
    "    prot = er_data_prot[pdb_id]\n",
    "    for dpx in er_contact_pockets[pdb_id]:\n",
    "        contact_betas.extend(er_contact_pockets[pdb_id][dpx])\n",
    "    \n",
    "    contact_betas = np.array(contact_betas)\n",
    "    beta_temp_dict = {}\n",
    "    beta_temp_dict['occluded_asa'] = features._get_pharmacophore_fingerprint(prot,contact_betas)\n",
    "    beta_temp_dict['usr'] = features._Get_USR_alpha_beta(contact_betas)\n",
    "    er_props_dict[pdb_id] = beta_temp_dict"
   ],
   "outputs": [],
   "execution_count": 39
  },
  {
   "cell_type": "code",
   "metadata": {
    "ExecuteTime": {
     "end_time": "2024-08-04T04:11:37.538670Z",
     "start_time": "2024-08-04T04:11:33.870115Z"
    }
   },
   "source": [
    "pka_trajectory = al.Trajectory(snapshots=[pka_data_ss[pdb_id] for pdb_id in pka_data_ss.keys()])\n",
    "pka_trajectory.gen_dpockets(clust_distance=4.7)\n",
    "dps = sorted([dp for dp in pka_trajectory.dpockets],key=lambda i:sum(i.scores))\n",
    "\n",
    "pka_contact_pockets = defaultdict(dict)\n",
    "for dpx,dp in enumerate(dps):\n",
    "    pockets = list(dp.pockets)\n",
    "    for px,pdb_id in enumerate(pka_data_ss.keys()):\n",
    "        if pockets[px].isContact:\n",
    "            pka_contact_pockets[pdb_id][dpx] = np.array([b.xyz for b in pockets[px].betas])\n",
    "\n",
    "pka_props_dict = {}\n",
    "for pdb_id in pka_contact_pockets:\n",
    "    contact_betas = []\n",
    "    prot = pka_data_prot[pdb_id]\n",
    "    for dpx in pka_contact_pockets[pdb_id]:\n",
    "        contact_betas.extend(pka_contact_pockets[pdb_id][dpx])\n",
    "    \n",
    "    contact_betas = np.array(contact_betas)\n",
    "    beta_temp_dict = {}\n",
    "    beta_temp_dict['occluded_asa'] = features._get_pharmacophore_fingerprint(prot,contact_betas)\n",
    "    beta_temp_dict['usr'] = features._Get_USR_alpha_beta(contact_betas)\n",
    "    pka_props_dict[pdb_id] = beta_temp_dict"
   ],
   "outputs": [],
   "execution_count": 40
  },
  {
   "cell_type": "markdown",
   "metadata": {},
   "source": [
    "### Define an array of USR features for the heatmap comparison "
   ]
  },
  {
   "cell_type": "code",
   "metadata": {
    "ExecuteTime": {
     "end_time": "2024-08-04T04:11:39.721632Z",
     "start_time": "2024-08-04T04:11:39.715185Z"
    }
   },
   "source": [
    "usr_arrays = []\n",
    "for pdb_id in protease_contact_pockets:\n",
    "    usr_arrays.append([s for _,s in protease_props_dict[pdb_id]['usr'].items()])\n",
    "for pdb_id in er_contact_pockets:\n",
    "    usr_arrays.append([s for _,s in er_props_dict[pdb_id]['usr'].items()])\n",
    "for pdb_id in pka_contact_pockets:\n",
    "    usr_arrays.append([s for _,s in pka_props_dict[pdb_id]['usr'].items()])\n",
    "        "
   ],
   "outputs": [],
   "execution_count": 41
  },
  {
   "cell_type": "code",
   "metadata": {
    "jupyter": {
     "is_executing": true
    },
    "ExecuteTime": {
     "start_time": "2024-08-04T04:11:42.007727Z"
    }
   },
   "source": [
    "usr_heatmap = np.ones((30,30))\n",
    "for ix in range(len(usr_arrays)-1):\n",
    "    usr_b1 = usr_arrays[ix]\n",
    "    for jx in range(ix+1,len(usr_arrays)):\n",
    "        usr_b2 = usr_arrays[jx]\n",
    "        sim = 1 - features._soergel(usr_b1,usr_b2)\n",
    "        usr_heatmap[ix,jx] = sim\n",
    "        usr_heatmap[jx,ix] = sim    \n",
    "a = 1"
   ],
   "outputs": [],
   "execution_count": null
  },
  {
   "cell_type": "markdown",
   "metadata": {},
   "source": [
    "### Plotting heatmap similarities using the USR features\n",
    "#### We define vmin as 0.7 (from observation of large numbers of structures,\n",
    "#### We observe that a similarity of <0.7 may be defined as dissimilar while anything larger than 0.7 may be similar)\n",
    "\n",
    "### Set the figure font and size"
   ]
  },
  {
   "metadata": {
    "ExecuteTime": {
     "end_time": "2024-08-04T03:48:24.903499Z",
     "start_time": "2024-08-04T03:48:24.894874Z"
    }
   },
   "cell_type": "code",
   "source": [
    "from matplotlib.font_manager import FontProperties\n",
    "custom_font = FontProperties(fname='./font/Roobert-Regular.ttf', size=12)\n",
    "plt.figure(figsize=(10,10), dpi=300)"
   ],
   "outputs": [
    {
     "data": {
      "text/plain": [
       "<Figure size 3000x3000 with 0 Axes>"
      ]
     },
     "execution_count": 21,
     "metadata": {},
     "output_type": "execute_result"
    },
    {
     "data": {
      "text/plain": [
       "<Figure size 3000x3000 with 0 Axes>"
      ]
     },
     "metadata": {},
     "output_type": "display_data"
    }
   ],
   "execution_count": 21
  },
  {
   "cell_type": "code",
   "metadata": {
    "ExecuteTime": {
     "end_time": "2024-08-04T03:50:37.825917Z",
     "start_time": "2024-08-04T03:50:37.736977Z"
    }
   },
   "source": [
    "plt.imshow(usr_heatmap, cmap='coolwarm', vmin = 0.7, vmax = 1.0)\n",
    "plt.xticks([5,15,25],['Protease','ER_receptor','P_kinase_A'], rotation=0, fontproperties=custom_font)\n",
    "plt.yticks([5,15,25],['Protease','ER_receptor','P_kinase_A'], fontproperties=custom_font)\n",
    "plt.axis([0,29,0,29])\n",
    "plt.savefig('./result/USR_heatmap.png')\n",
    "# plt.show()"
   ],
   "outputs": [
    {
     "data": {
      "text/plain": [
       "<Figure size 640x480 with 1 Axes>"
      ],
      "image/png": "[encoded data removed]"
     },
     "metadata": {},
     "output_type": "display_data"
    }
   ],
   "execution_count": 28
  },
  {
   "cell_type": "markdown",
   "metadata": {},
   "source": [
    "#### Proteases are more similar to each other with some pka's having similar shapes to the protease beta clusters. Estrogen receptors form more distinct shapes that are dissimilar to either proteases or pka \n",
    "\n",
    "### For the occluded ASA similarity"
   ]
  },
  {
   "cell_type": "code",
   "metadata": {},
   "source": [
    "oasa_arrays = []\n",
    "for pdb_id in protease_contact_pockets:\n",
    "    oasa_arrays.append([s for _,s in protease_props_dict[pdb_id]['occluded_asa'].items()])\n",
    "for pdb_id in er_contact_pockets:\n",
    "    oasa_arrays.append([s for _,s in er_props_dict[pdb_id]['occluded_asa'].items()])\n",
    "for pdb_id in pka_contact_pockets:\n",
    "    oasa_arrays.append([s for _,s in pka_props_dict[pdb_id]['occluded_asa'].items()])"
   ],
   "outputs": [],
   "execution_count": null
  },
  {
   "cell_type": "code",
   "metadata": {},
   "source": [
    "oasa_heatmap = np.ones((30,30))\n",
    "for ix in range(len(oasa_arrays)-1):\n",
    "    oasa_b1 = oasa_arrays[ix]\n",
    "    for jx in range(ix+1,len(oasa_arrays)):\n",
    "        oasa_b2 = oasa_arrays[jx]\n",
    "        sim = 1 - features._soergel(oasa_b1,oasa_b2)\n",
    "        oasa_heatmap[ix,jx] = sim\n",
    "        oasa_heatmap[jx,ix] = sim    "
   ],
   "outputs": [],
   "execution_count": null
  },
  {
   "cell_type": "code",
   "metadata": {},
   "source": [
    "plt.imshow(oasa_heatmap, cmap='cool', vmin = 0.7, vmax = 1.0)\n",
    "plt.xticks([5,15,25],['Protease','ER_receptor','P_kinase_A'],rotation=0)\n",
    "plt.yticks([5,15,25],['Protease','ER_receptor','P_kinase_A'])\n",
    "plt.axis([0,29,0,29])\n",
    "plt.show()"
   ],
   "outputs": [],
   "execution_count": null
  },
  {
   "cell_type": "markdown",
   "metadata": {},
   "source": [
    "#### Similarity/dissimilarity is more distint for oasa metric and we can observe differences within each cluster more visibly"
   ]
  }
 ],
 "metadata": {
  "kernelspec": {
   "display_name": "Python 3",
   "language": "python",
   "name": "python3"
  },
  "language_info": {
   "codemirror_mode": {
    "name": "ipython",
    "version": 3
   },
   "file_extension": ".py",
   "mimetype": "text/x-python",
   "name": "python",
   "nbconvert_exporter": "python",
   "pygments_lexer": "ipython3",
   "version": "3.6.7"
  }
 },
 "nbformat": 4,
 "nbformat_minor": 2
}
